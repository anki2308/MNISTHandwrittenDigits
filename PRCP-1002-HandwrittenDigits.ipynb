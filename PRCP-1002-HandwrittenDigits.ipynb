{
 "cells": [
  {
   "cell_type": "code",
   "execution_count": 1,
   "id": "09e53a78",
   "metadata": {},
   "outputs": [],
   "source": [
    "import numpy as np\n",
    "import pandas as pd\n",
    "\n",
    "np.random.seed(0) \n",
    "import random\n",
    "\n",
    "import tensorflow.keras as keras\n",
    "from tensorflow.keras.models import Sequential, load_model\n",
    "from tensorflow.keras.layers import Dense, Dropout, Flatten\n",
    "from tensorflow.keras.layers import Conv2D, MaxPool2D, BatchNormalization\n",
    "from tensorflow.keras import backend as K\n",
    "from tensorflow.keras.utils import to_categorical\n",
    "from tensorflow.keras.datasets import mnist\n",
    "from tensorflow.keras.preprocessing.image import ImageDataGenerator\n",
    "from tensorflow.keras.callbacks import EarlyStopping, ReduceLROnPlateau, ModelCheckpoint\n",
    "\n",
    "from keras.utils.vis_utils import plot_model\n",
    "\n",
    "from sklearn.model_selection import train_test_split\n",
    "\n",
    "import matplotlib.pyplot as plt\n",
    "import seaborn as sns\n",
    "%matplotlib inline"
   ]
  },
  {
   "cell_type": "code",
   "execution_count": 2,
   "id": "8f5905d6",
   "metadata": {},
   "outputs": [],
   "source": [
    "from tensorflow.keras.datasets import mnist\n",
    "(X_train, y_train), (X_test, y_test) = mnist.load_data()"
   ]
  },
  {
   "cell_type": "markdown",
   "id": "f93520a0",
   "metadata": {},
   "source": [
    "## Basic Details check"
   ]
  },
  {
   "cell_type": "code",
   "execution_count": 4,
   "id": "49170914",
   "metadata": {},
   "outputs": [
    {
     "name": "stdout",
     "output_type": "stream",
     "text": [
      "(60000, 28, 28) (10000, 28, 28)\n"
     ]
    }
   ],
   "source": [
    "print(X_train.shape, X_test.shape)"
   ]
  },
  {
   "cell_type": "code",
   "execution_count": 5,
   "id": "602020ca",
   "metadata": {},
   "outputs": [
    {
     "data": {
      "text/plain": [
       "array([[[0, 0, 0, ..., 0, 0, 0],\n",
       "        [0, 0, 0, ..., 0, 0, 0],\n",
       "        [0, 0, 0, ..., 0, 0, 0],\n",
       "        ...,\n",
       "        [0, 0, 0, ..., 0, 0, 0],\n",
       "        [0, 0, 0, ..., 0, 0, 0],\n",
       "        [0, 0, 0, ..., 0, 0, 0]],\n",
       "\n",
       "       [[0, 0, 0, ..., 0, 0, 0],\n",
       "        [0, 0, 0, ..., 0, 0, 0],\n",
       "        [0, 0, 0, ..., 0, 0, 0],\n",
       "        ...,\n",
       "        [0, 0, 0, ..., 0, 0, 0],\n",
       "        [0, 0, 0, ..., 0, 0, 0],\n",
       "        [0, 0, 0, ..., 0, 0, 0]],\n",
       "\n",
       "       [[0, 0, 0, ..., 0, 0, 0],\n",
       "        [0, 0, 0, ..., 0, 0, 0],\n",
       "        [0, 0, 0, ..., 0, 0, 0],\n",
       "        ...,\n",
       "        [0, 0, 0, ..., 0, 0, 0],\n",
       "        [0, 0, 0, ..., 0, 0, 0],\n",
       "        [0, 0, 0, ..., 0, 0, 0]],\n",
       "\n",
       "       ...,\n",
       "\n",
       "       [[0, 0, 0, ..., 0, 0, 0],\n",
       "        [0, 0, 0, ..., 0, 0, 0],\n",
       "        [0, 0, 0, ..., 0, 0, 0],\n",
       "        ...,\n",
       "        [0, 0, 0, ..., 0, 0, 0],\n",
       "        [0, 0, 0, ..., 0, 0, 0],\n",
       "        [0, 0, 0, ..., 0, 0, 0]],\n",
       "\n",
       "       [[0, 0, 0, ..., 0, 0, 0],\n",
       "        [0, 0, 0, ..., 0, 0, 0],\n",
       "        [0, 0, 0, ..., 0, 0, 0],\n",
       "        ...,\n",
       "        [0, 0, 0, ..., 0, 0, 0],\n",
       "        [0, 0, 0, ..., 0, 0, 0],\n",
       "        [0, 0, 0, ..., 0, 0, 0]],\n",
       "\n",
       "       [[0, 0, 0, ..., 0, 0, 0],\n",
       "        [0, 0, 0, ..., 0, 0, 0],\n",
       "        [0, 0, 0, ..., 0, 0, 0],\n",
       "        ...,\n",
       "        [0, 0, 0, ..., 0, 0, 0],\n",
       "        [0, 0, 0, ..., 0, 0, 0],\n",
       "        [0, 0, 0, ..., 0, 0, 0]]], dtype=uint8)"
      ]
     },
     "execution_count": 5,
     "metadata": {},
     "output_type": "execute_result"
    }
   ],
   "source": [
    "X_train"
   ]
  },
  {
   "cell_type": "code",
   "execution_count": 6,
   "id": "c7aee5b5",
   "metadata": {},
   "outputs": [
    {
     "data": {
      "text/plain": [
       "array([5, 0, 4, ..., 5, 6, 8], dtype=uint8)"
      ]
     },
     "execution_count": 6,
     "metadata": {},
     "output_type": "execute_result"
    }
   ],
   "source": [
    "y_train"
   ]
  },
  {
   "cell_type": "code",
   "execution_count": 9,
   "id": "357ce026",
   "metadata": {},
   "outputs": [],
   "source": [
    "import  matplotlib"
   ]
  },
  {
   "cell_type": "code",
   "execution_count": 10,
   "id": "0da3ac12",
   "metadata": {},
   "outputs": [],
   "source": [
    "def image(i):\n",
    "    plt.imshow(X_train[i],cmap=matplotlib.cm.binary)\n",
    "    plt.title(y_train[i])\n",
    "    plt.show()"
   ]
  },
  {
   "cell_type": "code",
   "execution_count": 11,
   "id": "4ff8ab51",
   "metadata": {
    "collapsed": true
   },
   "outputs": [
    {
     "data": {
      "image/png": "[encoded data removed]",
      "text/plain": [
       "<Figure size 432x288 with 1 Axes>"
      ]
     },
     "metadata": {
      "needs_background": "light"
     },
     "output_type": "display_data"
    },
    {
     "data": {
      "image/png": "[encoded data removed]",
      "text/plain": [
       "<Figure size 432x288 with 1 Axes>"
      ]
     },
     "metadata": {
      "needs_background": "light"
     },
     "output_type": "display_data"
    },
    {
     "data": {
      "image/png": "[encoded data removed]",
      "text/plain": [
       "<Figure size 432x288 with 1 Axes>"
      ]
     },
     "metadata": {
      "needs_background": "light"
     },
     "output_type": "display_data"
    },
    {
     "data": {
      "image/png": "[encoded data removed]",
      "text/plain": [
       "<Figure size 432x288 with 1 Axes>"
      ]
     },
     "metadata": {
      "needs_background": "light"
     },
     "output_type": "display_data"
    },
    {
     "data": {
      "image/png": "[encoded data removed]",
      "text/plain": [
       "<Figure size 432x288 with 1 Axes>"
      ]
     },
     "metadata": {
      "needs_background": "light"
     },
     "output_type": "display_data"
    },
    {
     "data": {
      "image/png": "[encoded data removed]",
      "text/plain": [
       "<Figure size 432x288 with 1 Axes>"
      ]
     },
     "metadata": {
      "needs_background": "light"
     },
     "output_type": "display_data"
    },
    {
     "data": {
      "image/png": "[encoded data removed]",
      "text/plain": [
       "<Figure size 432x288 with 1 Axes>"
      ]
     },
     "metadata": {
      "needs_background": "light"
     },
     "output_type": "display_data"
    },
    {
     "data": {
      "image/png": "[encoded data removed]",
      "text/plain": [
       "<Figure size 432x288 with 1 Axes>"
      ]
     },
     "metadata": {
      "needs_background": "light"
     },
     "output_type": "display_data"
    },
    {
     "data": {
      "image/png": "[encoded data removed]",
      "text/plain": [
       "<Figure size 432x288 with 1 Axes>"
      ]
     },
     "metadata": {
      "needs_background": "light"
     },
     "output_type": "display_data"
    },
    {
     "data": {
      "image/png": "[encoded data removed]",
      "text/plain": [
       "<Figure size 432x288 with 1 Axes>"
      ]
     },
     "metadata": {
      "needs_background": "light"
     },
     "output_type": "display_data"
    },
    {
     "data": {
      "image/png": "[encoded data removed]",
      "text/plain": [
       "<Figure size 432x288 with 1 Axes>"
      ]
     },
     "metadata": {
      "needs_background": "light"
     },
     "output_type": "display_data"
    },
    {
     "data": {
      "image/png": "[encoded data removed]",
      "text/plain": [
       "<Figure size 432x288 with 1 Axes>"
      ]
     },
     "metadata": {
      "needs_background": "light"
     },
     "output_type": "display_data"
    },
    {
     "data": {
      "image/png": "[encoded data removed]",
      "text/plain": [
       "<Figure size 432x288 with 1 Axes>"
      ]
     },
     "metadata": {
      "needs_background": "light"
     },
     "output_type": "display_data"
    },
    {
     "data": {
      "image/png": "[encoded data removed]",
      "text/plain": [
       "<Figure size 432x288 with 1 Axes>"
      ]
     },
     "metadata": {
      "needs_background": "light"
     },
     "output_type": "display_data"
    },
    {
     "data": {
      "image/png": "[encoded data removed]",
      "text/plain": [
       "<Figure size 432x288 with 1 Axes>"
      ]
     },
     "metadata": {
      "needs_background": "light"
     },
     "output_type": "display_data"
    },
    {
     "data": {
      "image/png": "[encoded data removed]",
      "text/plain": [
       "<Figure size 432x288 with 1 Axes>"
      ]
     },
     "metadata": {
      "needs_background": "light"
     },
     "output_type": "display_data"
    },
    {
     "data": {
      "image/png": "[encoded data removed]",
      "text/plain": [
       "<Figure size 432x288 with 1 Axes>"
      ]
     },
     "metadata": {
      "needs_background": "light"
     },
     "output_type": "display_data"
    },
    {
     "data": {
      "image/png": "[encoded data removed]",
      "text/plain": [
       "<Figure size 432x288 with 1 Axes>"
      ]
     },
     "metadata": {
      "needs_background": "light"
     },
     "output_type": "display_data"
    },
    {
     "data": {
      "image/png": "[encoded data removed]",
      "text/plain": [
       "<Figure size 432x288 with 1 Axes>"
      ]
     },
     "metadata": {
      "needs_background": "light"
     },
     "output_type": "display_data"
    },
    {
     "data": {
      "image/png": "[encoded data removed]",
      "text/plain": [
       "<Figure size 432x288 with 1 Axes>"
      ]
     },
     "metadata": {
      "needs_background": "light"
     },
     "output_type": "display_data"
    }
   ],
   "source": [
    "for i in range(20):\n",
    "      image(i)   "
   ]
  },
  {
   "cell_type": "code",
   "execution_count": 12,
   "id": "ac3201cf",
   "metadata": {
    "collapsed": true
   },
   "outputs": [
    {
     "data": {
      "image/png": "[encoded data removed]",
      "text/plain": [
       "<Figure size 432x288 with 1 Axes>"
      ]
     },
     "metadata": {
      "needs_background": "light"
     },
     "output_type": "display_data"
    }
   ],
   "source": [
    "image(5)"
   ]
  },
  {
   "cell_type": "code",
   "execution_count": 16,
   "id": "b3157f8b",
   "metadata": {},
   "outputs": [
    {
     "data": {
      "image/png": "[encoded data removed]",
      "text/plain": [
       "<Figure size 1152x1152 with 15 Axes>"
      ]
     },
     "metadata": {
      "needs_background": "light"
     },
     "output_type": "display_data"
    }
   ],
   "source": [
    "def Show_example_digits(mono = 'gray'):\n",
    "    fig = plt.figure(figsize = (16, 16))\n",
    "    for i in range(15):\n",
    "        plt.subplot(5, 5,i+1)\n",
    "        plt.imshow(X_train[i], cmap = mono)\n",
    "        plt.title(\"Digit {}\".format(y_train[i]))\n",
    "        \n",
    "    plt.tight_layout()\n",
    "    \n",
    "Show_example_digits()"
   ]
  },
  {
   "cell_type": "code",
   "execution_count": 17,
   "id": "11843d69",
   "metadata": {},
   "outputs": [
    {
     "name": "stdout",
     "output_type": "stream",
     "text": [
      "2\n"
     ]
    },
    {
     "data": {
      "image/png": "[encoded data removed]",
      "text/plain": [
       "<Figure size 936x936 with 1 Axes>"
      ]
     },
     "metadata": {
      "needs_background": "light"
     },
     "output_type": "display_data"
    }
   ],
   "source": [
    "def plot_digit(digit, dem = 28, font_size = 12):\n",
    "    max_ax = font_size * dem\n",
    "    \n",
    "    fig = plt.figure(figsize=(13, 13))\n",
    "    plt.xlim([0, max_ax])\n",
    "    plt.ylim([0, max_ax])\n",
    "    plt.axis('off')\n",
    "    black = '#000000'\n",
    "    \n",
    "    for idx in range(dem):\n",
    "        for jdx in range(dem):\n",
    "\n",
    "            t = plt.text(idx * font_size, max_ax - jdx*font_size, digit[jdx][idx], fontsize = font_size, color = black)\n",
    "            c = digit[jdx][idx] / 255.\n",
    "            t.set_bbox(dict(facecolor=(c, c, c), alpha = 0.5, edgecolor = 'black'))\n",
    "            \n",
    "    plt.show()\n",
    "rand_number = random.randint(0, len(y_train))\n",
    "print(y_train[rand_number])\n",
    "plot_digit(X_train[rand_number])"
   ]
  },
  {
   "cell_type": "markdown",
   "id": "da7e02ae",
   "metadata": {},
   "source": [
    "#### Checking the values of each pixel"
   ]
  },
  {
   "cell_type": "code",
   "execution_count": 13,
   "id": "955e3b0c",
   "metadata": {},
   "outputs": [
    {
     "name": "stdout",
     "output_type": "stream",
     "text": [
      "[[  0   0   0   0   0   0   0   0   0   0   0   0   0   0   0   0   0   0\n",
      "    0   0   0   0   0   0   0   0   0   0]\n",
      " [  0   0   0   0   0   0   0   0   0   0   0   0   0   0   0   0   0   0\n",
      "    0   0   0   0   0   0   0   0   0   0]\n",
      " [  0   0   0   0   0   0   0   0   0   0   0   0   0   0   0   0   0   0\n",
      "    0   0   0   0   0   0   0   0   0   0]\n",
      " [  0   0   0   0   0   0   0   0   0   0   0   0   0   0   0   0   0   0\n",
      "    0   0   0   0   0   0   0   0   0   0]\n",
      " [  0   0   0   0   0   0   0   0   0   0   0   0   0   0   0   0   0   0\n",
      "    0   0   0   0   0   0   0   0   0   0]\n",
      " [  0   0   0   0   0   0   0   0   0   0   0   0   0   0   0  13  25 100\n",
      "  122   7   0   0   0   0   0   0   0   0]\n",
      " [  0   0   0   0   0   0   0   0   0   0   0   0   0  33 151 208 252 252\n",
      "  252 146   0   0   0   0   0   0   0   0]\n",
      " [  0   0   0   0   0   0   0   0   0   0   0  40 152 244 252 253 224 211\n",
      "  252 232  40   0   0   0   0   0   0   0]\n",
      " [  0   0   0   0   0   0   0   0   0  15 152 239 252 252 252 216  31  37\n",
      "  252 252  60   0   0   0   0   0   0   0]\n",
      " [  0   0   0   0   0   0   0   0   0  96 252 252 252 252 217  29   0  37\n",
      "  252 252  60   0   0   0   0   0   0   0]\n",
      " [  0   0   0   0   0   0   0   0   0 181 252 252 220 167  30   0   0  77\n",
      "  252 252  60   0   0   0   0   0   0   0]\n",
      " [  0   0   0   0   0   0   0   0   0  26 128  58  22   0   0   0   0 100\n",
      "  252 252  60   0   0   0   0   0   0   0]\n",
      " [  0   0   0   0   0   0   0   0   0   0   0   0   0   0   0   0   0 157\n",
      "  252 252  60   0   0   0   0   0   0   0]\n",
      " [  0   0   0   0   0   0   0   0   0   0   0   0   0 110 121 122 121 202\n",
      "  252 194   3   0   0   0   0   0   0   0]\n",
      " [  0   0   0   0   0   0   0   0   0   0  10  53 179 253 253 255 253 253\n",
      "  228  35   0   0   0   0   0   0   0   0]\n",
      " [  0   0   0   0   0   0   0   0   5  54 227 252 243 228 170 242 252 252\n",
      "  231 117   6   0   0   0   0   0   0   0]\n",
      " [  0   0   0   0   0   0   0   6  78 252 252 125  59   0  18 208 252 252\n",
      "  252 252  87   7   0   0   0   0   0   0]\n",
      " [  0   0   0   0   0   0   5 135 252 252 180  16   0  21 203 253 247 129\n",
      "  173 252 252 184  66  49  49   0   0   0]\n",
      " [  0   0   0   0   0   3 136 252 241 106  17   0  53 200 252 216  65   0\n",
      "   14  72 163 241 252 252 223   0   0   0]\n",
      " [  0   0   0   0   0 105 252 242  88  18  73 170 244 252 126  29   0   0\n",
      "    0   0   0  89 180 180  37   0   0   0]\n",
      " [  0   0   0   0   0 231 252 245 205 216 252 252 252 124   3   0   0   0\n",
      "    0   0   0   0   0   0   0   0   0   0]\n",
      " [  0   0   0   0   0 207 252 252 252 252 178 116  36   4   0   0   0   0\n",
      "    0   0   0   0   0   0   0   0   0   0]\n",
      " [  0   0   0   0   0  13  93 143 121  23   6   0   0   0   0   0   0   0\n",
      "    0   0   0   0   0   0   0   0   0   0]\n",
      " [  0   0   0   0   0   0   0   0   0   0   0   0   0   0   0   0   0   0\n",
      "    0   0   0   0   0   0   0   0   0   0]\n",
      " [  0   0   0   0   0   0   0   0   0   0   0   0   0   0   0   0   0   0\n",
      "    0   0   0   0   0   0   0   0   0   0]\n",
      " [  0   0   0   0   0   0   0   0   0   0   0   0   0   0   0   0   0   0\n",
      "    0   0   0   0   0   0   0   0   0   0]\n",
      " [  0   0   0   0   0   0   0   0   0   0   0   0   0   0   0   0   0   0\n",
      "    0   0   0   0   0   0   0   0   0   0]\n",
      " [  0   0   0   0   0   0   0   0   0   0   0   0   0   0   0   0   0   0\n",
      "    0   0   0   0   0   0   0   0   0   0]]\n"
     ]
    }
   ],
   "source": [
    "## before Normalization\n",
    "\n",
    "print(X_train[5]) "
   ]
  },
  {
   "cell_type": "markdown",
   "id": "97231dfd",
   "metadata": {},
   "source": [
    "As images are in Gray Scale Level, therefore 1 channel = 0 to 255"
   ]
  },
  {
   "cell_type": "markdown",
   "id": "3037378b",
   "metadata": {},
   "source": [
    "## Preprocessing Images"
   ]
  },
  {
   "cell_type": "markdown",
   "id": "1f524886",
   "metadata": {},
   "source": [
    "#### Normalizing the Data\n",
    "\n",
    "- We perform a grayscale normalization to reduce the effect of illumination's differences.\n",
    "\n",
    "- Moreover the CNN converg faster on [0..1] data than on [0..255]."
   ]
  },
  {
   "cell_type": "code",
   "execution_count": 14,
   "id": "60f48539",
   "metadata": {},
   "outputs": [],
   "source": [
    "## As its gray image and all values vary from 0 to 255 we need to normalize it\n",
    "\n",
    "import tensorflow as tf"
   ]
  },
  {
   "cell_type": "code",
   "execution_count": 20,
   "id": "b8b721d8",
   "metadata": {},
   "outputs": [],
   "source": [
    "X_train=X_train.astype(np.float32)/255\n",
    "X_test=X_test.astype(np.float32)/255"
   ]
  },
  {
   "cell_type": "code",
   "execution_count": 21,
   "id": "2c2f2516",
   "metadata": {},
   "outputs": [
    {
     "name": "stdout",
     "output_type": "stream",
     "text": [
      "X_train shape: (60000, 28, 28)\n"
     ]
    }
   ],
   "source": [
    "print('X_train shape:', X_train.shape)"
   ]
  },
  {
   "cell_type": "code",
   "execution_count": 22,
   "id": "42f0f806",
   "metadata": {},
   "outputs": [
    {
     "name": "stdout",
     "output_type": "stream",
     "text": [
      "60000 train samples\n",
      "10000 test samples\n"
     ]
    }
   ],
   "source": [
    "print(X_train.shape[0], 'train samples')\n",
    "print(X_test.shape[0], 'test samples')"
   ]
  },
  {
   "cell_type": "code",
   "execution_count": 23,
   "id": "18a84a66",
   "metadata": {
    "collapsed": true
   },
   "outputs": [
    {
     "data": {
      "text/plain": [
       "<matplotlib.image.AxesImage at 0x25d64fe2490>"
      ]
     },
     "execution_count": 23,
     "metadata": {},
     "output_type": "execute_result"
    },
    {
     "data": {
      "image/png": "[encoded data removed]",
      "text/plain": [
       "<Figure size 432x288 with 1 Axes>"
      ]
     },
     "metadata": {
      "needs_background": "light"
     },
     "output_type": "display_data"
    }
   ],
   "source": [
    "plt.imshow(X_train[5],cmap=plt.cm.binary)"
   ]
  },
  {
   "cell_type": "code",
   "execution_count": 24,
   "id": "cb903d1b",
   "metadata": {
    "collapsed": true
   },
   "outputs": [
    {
     "name": "stdout",
     "output_type": "stream",
     "text": [
      "[[0.         0.         0.         0.         0.         0.\n",
      "  0.         0.         0.         0.         0.         0.\n",
      "  0.         0.         0.         0.         0.         0.\n",
      "  0.         0.         0.         0.         0.         0.\n",
      "  0.         0.         0.         0.        ]\n",
      " [0.         0.         0.         0.         0.         0.\n",
      "  0.         0.         0.         0.         0.         0.\n",
      "  0.         0.         0.         0.         0.         0.\n",
      "  0.         0.         0.         0.         0.         0.\n",
      "  0.         0.         0.         0.        ]\n",
      " [0.         0.         0.         0.         0.         0.\n",
      "  0.         0.         0.         0.         0.         0.\n",
      "  0.         0.         0.         0.         0.         0.\n",
      "  0.         0.         0.         0.         0.         0.\n",
      "  0.         0.         0.         0.        ]\n",
      " [0.         0.         0.         0.         0.         0.\n",
      "  0.         0.         0.         0.         0.         0.\n",
      "  0.         0.         0.         0.         0.         0.\n",
      "  0.         0.         0.         0.         0.         0.\n",
      "  0.         0.         0.         0.        ]\n",
      " [0.         0.         0.         0.         0.         0.\n",
      "  0.         0.         0.         0.         0.         0.\n",
      "  0.         0.         0.         0.         0.         0.\n",
      "  0.         0.         0.         0.         0.         0.\n",
      "  0.         0.         0.         0.        ]\n",
      " [0.         0.         0.         0.         0.         0.\n",
      "  0.         0.         0.         0.         0.         0.\n",
      "  0.         0.         0.         0.05098039 0.09803922 0.39215687\n",
      "  0.47843137 0.02745098 0.         0.         0.         0.\n",
      "  0.         0.         0.         0.        ]\n",
      " [0.         0.         0.         0.         0.         0.\n",
      "  0.         0.         0.         0.         0.         0.\n",
      "  0.         0.12941177 0.5921569  0.8156863  0.9882353  0.9882353\n",
      "  0.9882353  0.57254905 0.         0.         0.         0.\n",
      "  0.         0.         0.         0.        ]\n",
      " [0.         0.         0.         0.         0.         0.\n",
      "  0.         0.         0.         0.         0.         0.15686275\n",
      "  0.59607846 0.95686275 0.9882353  0.99215686 0.8784314  0.827451\n",
      "  0.9882353  0.9098039  0.15686275 0.         0.         0.\n",
      "  0.         0.         0.         0.        ]\n",
      " [0.         0.         0.         0.         0.         0.\n",
      "  0.         0.         0.         0.05882353 0.59607846 0.9372549\n",
      "  0.9882353  0.9882353  0.9882353  0.84705883 0.12156863 0.14509805\n",
      "  0.9882353  0.9882353  0.23529412 0.         0.         0.\n",
      "  0.         0.         0.         0.        ]\n",
      " [0.         0.         0.         0.         0.         0.\n",
      "  0.         0.         0.         0.3764706  0.9882353  0.9882353\n",
      "  0.9882353  0.9882353  0.8509804  0.11372549 0.         0.14509805\n",
      "  0.9882353  0.9882353  0.23529412 0.         0.         0.\n",
      "  0.         0.         0.         0.        ]\n",
      " [0.         0.         0.         0.         0.         0.\n",
      "  0.         0.         0.         0.70980394 0.9882353  0.9882353\n",
      "  0.8627451  0.654902   0.11764706 0.         0.         0.3019608\n",
      "  0.9882353  0.9882353  0.23529412 0.         0.         0.\n",
      "  0.         0.         0.         0.        ]\n",
      " [0.         0.         0.         0.         0.         0.\n",
      "  0.         0.         0.         0.10196079 0.5019608  0.22745098\n",
      "  0.08627451 0.         0.         0.         0.         0.39215687\n",
      "  0.9882353  0.9882353  0.23529412 0.         0.         0.\n",
      "  0.         0.         0.         0.        ]\n",
      " [0.         0.         0.         0.         0.         0.\n",
      "  0.         0.         0.         0.         0.         0.\n",
      "  0.         0.         0.         0.         0.         0.6156863\n",
      "  0.9882353  0.9882353  0.23529412 0.         0.         0.\n",
      "  0.         0.         0.         0.        ]\n",
      " [0.         0.         0.         0.         0.         0.\n",
      "  0.         0.         0.         0.         0.         0.\n",
      "  0.         0.43137255 0.4745098  0.47843137 0.4745098  0.7921569\n",
      "  0.9882353  0.7607843  0.01176471 0.         0.         0.\n",
      "  0.         0.         0.         0.        ]\n",
      " [0.         0.         0.         0.         0.         0.\n",
      "  0.         0.         0.         0.         0.03921569 0.20784314\n",
      "  0.7019608  0.99215686 0.99215686 1.         0.99215686 0.99215686\n",
      "  0.89411765 0.13725491 0.         0.         0.         0.\n",
      "  0.         0.         0.         0.        ]\n",
      " [0.         0.         0.         0.         0.         0.\n",
      "  0.         0.         0.01960784 0.21176471 0.8901961  0.9882353\n",
      "  0.9529412  0.89411765 0.6666667  0.9490196  0.9882353  0.9882353\n",
      "  0.90588236 0.45882353 0.02352941 0.         0.         0.\n",
      "  0.         0.         0.         0.        ]\n",
      " [0.         0.         0.         0.         0.         0.\n",
      "  0.         0.02352941 0.30588236 0.9882353  0.9882353  0.49019608\n",
      "  0.23137255 0.         0.07058824 0.8156863  0.9882353  0.9882353\n",
      "  0.9882353  0.9882353  0.34117648 0.02745098 0.         0.\n",
      "  0.         0.         0.         0.        ]\n",
      " [0.         0.         0.         0.         0.         0.\n",
      "  0.01960784 0.5294118  0.9882353  0.9882353  0.7058824  0.0627451\n",
      "  0.         0.08235294 0.79607844 0.99215686 0.96862745 0.5058824\n",
      "  0.6784314  0.9882353  0.9882353  0.72156864 0.25882354 0.19215687\n",
      "  0.19215687 0.         0.         0.        ]\n",
      " [0.         0.         0.         0.         0.         0.01176471\n",
      "  0.53333336 0.9882353  0.94509804 0.41568628 0.06666667 0.\n",
      "  0.20784314 0.78431374 0.9882353  0.84705883 0.25490198 0.\n",
      "  0.05490196 0.28235295 0.6392157  0.94509804 0.9882353  0.9882353\n",
      "  0.8745098  0.         0.         0.        ]\n",
      " [0.         0.         0.         0.         0.         0.4117647\n",
      "  0.9882353  0.9490196  0.34509805 0.07058824 0.28627452 0.6666667\n",
      "  0.95686275 0.9882353  0.49411765 0.11372549 0.         0.\n",
      "  0.         0.         0.         0.34901962 0.7058824  0.7058824\n",
      "  0.14509805 0.         0.         0.        ]\n",
      " [0.         0.         0.         0.         0.         0.90588236\n",
      "  0.9882353  0.9607843  0.8039216  0.84705883 0.9882353  0.9882353\n",
      "  0.9882353  0.4862745  0.01176471 0.         0.         0.\n",
      "  0.         0.         0.         0.         0.         0.\n",
      "  0.         0.         0.         0.        ]\n",
      " [0.         0.         0.         0.         0.         0.8117647\n",
      "  0.9882353  0.9882353  0.9882353  0.9882353  0.69803923 0.45490196\n",
      "  0.14117648 0.01568628 0.         0.         0.         0.\n",
      "  0.         0.         0.         0.         0.         0.\n",
      "  0.         0.         0.         0.        ]\n",
      " [0.         0.         0.         0.         0.         0.05098039\n",
      "  0.3647059  0.56078434 0.4745098  0.09019608 0.02352941 0.\n",
      "  0.         0.         0.         0.         0.         0.\n",
      "  0.         0.         0.         0.         0.         0.\n",
      "  0.         0.         0.         0.        ]\n",
      " [0.         0.         0.         0.         0.         0.\n",
      "  0.         0.         0.         0.         0.         0.\n",
      "  0.         0.         0.         0.         0.         0.\n",
      "  0.         0.         0.         0.         0.         0.\n",
      "  0.         0.         0.         0.        ]\n",
      " [0.         0.         0.         0.         0.         0.\n",
      "  0.         0.         0.         0.         0.         0.\n",
      "  0.         0.         0.         0.         0.         0.\n",
      "  0.         0.         0.         0.         0.         0.\n",
      "  0.         0.         0.         0.        ]\n",
      " [0.         0.         0.         0.         0.         0.\n",
      "  0.         0.         0.         0.         0.         0.\n",
      "  0.         0.         0.         0.         0.         0.\n",
      "  0.         0.         0.         0.         0.         0.\n",
      "  0.         0.         0.         0.        ]\n",
      " [0.         0.         0.         0.         0.         0.\n",
      "  0.         0.         0.         0.         0.         0.\n",
      "  0.         0.         0.         0.         0.         0.\n",
      "  0.         0.         0.         0.         0.         0.\n",
      "  0.         0.         0.         0.        ]\n",
      " [0.         0.         0.         0.         0.         0.\n",
      "  0.         0.         0.         0.         0.         0.\n",
      "  0.         0.         0.         0.         0.         0.\n",
      "  0.         0.         0.         0.         0.         0.\n",
      "  0.         0.         0.         0.        ]]\n"
     ]
    }
   ],
   "source": [
    "print( X_train[5])"
   ]
  },
  {
   "cell_type": "code",
   "execution_count": 25,
   "id": "be2a7aaa",
   "metadata": {},
   "outputs": [
    {
     "name": "stdout",
     "output_type": "stream",
     "text": [
      "2\n"
     ]
    }
   ],
   "source": [
    "print(y_train[5])"
   ]
  },
  {
   "cell_type": "markdown",
   "id": "bda95854",
   "metadata": {},
   "source": [
    "#### Resizing the image apply in Convolution Operation\n",
    "\n",
    "- Train and test images (28px x 28px) has been stock into pandas.Dataframe as 1D vectors of 784 values. We reshape all data to 28x28x1 3D matrices.\n",
    "\n",
    "- Keras requires an extra dimension in the end which correspond to channels. MNIST images are gray scaled so it use only one channel. For RGB images, there is 3 channels, we would have reshaped 784px vectors to 28x28x3 3D matrices."
   ]
  },
  {
   "cell_type": "code",
   "execution_count": 26,
   "id": "73907ddc",
   "metadata": {},
   "outputs": [],
   "source": [
    "X_train = X_train.reshape(X_train.shape[0], 28, 28, 1)\n",
    "X_test = X_test.reshape(X_test.shape[0], 28, 28, 1)\n",
    "input_shape = (28, 28, 1)"
   ]
  },
  {
   "cell_type": "code",
   "execution_count": 27,
   "id": "808d3b39",
   "metadata": {},
   "outputs": [
    {
     "name": "stdout",
     "output_type": "stream",
     "text": [
      "X_train shape: (60000, 28, 28, 1)\n",
      "60000 train samples\n",
      "10000 test samples\n"
     ]
    }
   ],
   "source": [
    "print('X_train shape:', X_train.shape)\n",
    "print(X_train.shape[0], 'train samples')\n",
    "print(X_test.shape[0], 'test samples')"
   ]
  },
  {
   "cell_type": "markdown",
   "id": "048a4329",
   "metadata": {},
   "source": [
    "#### converting into One Hot Vector Encoding\n",
    "- Labels are 10 digits numbers from 0 to 9. We need to encode these lables to one hot vectors"
   ]
  },
  {
   "cell_type": "code",
   "execution_count": 28,
   "id": "d9efd470",
   "metadata": {},
   "outputs": [
    {
     "data": {
      "text/plain": [
       "array([5, 0, 4, ..., 5, 6, 8], dtype=uint8)"
      ]
     },
     "execution_count": 28,
     "metadata": {},
     "output_type": "execute_result"
    }
   ],
   "source": [
    "y_train"
   ]
  },
  {
   "cell_type": "code",
   "execution_count": 29,
   "id": "887e61da",
   "metadata": {},
   "outputs": [],
   "source": [
    "## In the output we need to make it 0 and 1 as it ranges from 0-9 therefore converting into One Hot Vector Encoding\n",
    "\n",
    "y_train=keras.utils.to_categorical(y_train)\n",
    "y_test=keras.utils.to_categorical(y_test)"
   ]
  },
  {
   "cell_type": "code",
   "execution_count": 30,
   "id": "b065e534",
   "metadata": {},
   "outputs": [
    {
     "data": {
      "text/plain": [
       "array([[0., 0., 0., ..., 0., 0., 0.],\n",
       "       [1., 0., 0., ..., 0., 0., 0.],\n",
       "       [0., 0., 0., ..., 0., 0., 0.],\n",
       "       ...,\n",
       "       [0., 0., 0., ..., 0., 0., 0.],\n",
       "       [0., 0., 0., ..., 0., 0., 0.],\n",
       "       [0., 0., 0., ..., 0., 1., 0.]], dtype=float32)"
      ]
     },
     "execution_count": 30,
     "metadata": {},
     "output_type": "execute_result"
    }
   ],
   "source": [
    "y_train"
   ]
  },
  {
   "cell_type": "markdown",
   "id": "d12912be",
   "metadata": {},
   "source": [
    "## Model Building"
   ]
  },
  {
   "cell_type": "markdown",
   "id": "243dcf84",
   "metadata": {},
   "source": [
    "##### Creating Deep Learning Architecture - \n",
    "\n",
    "-  We used the Keras Sequential API."
   ]
  },
  {
   "cell_type": "code",
   "execution_count": 33,
   "id": "48a9eeb9",
   "metadata": {},
   "outputs": [],
   "source": [
    "##  Traing on 60,000 samples of MNIST handwriiten digits datasets\n",
    "\n",
    "## Import libraries\n",
    "\n",
    "from tensorflow.keras.models import Sequential\n",
    "from tensorflow.keras.layers import Dense,Dropout,Activation,Flatten,Conv2D,MaxPooling2D"
   ]
  },
  {
   "cell_type": "markdown",
   "id": "c5cba399",
   "metadata": {},
   "source": [
    "### Model 1 (3 Hidden Layers and with 2 Dropouts"
   ]
  },
  {
   "cell_type": "markdown",
   "id": "1b4c2f52",
   "metadata": {},
   "source": [
    "- The first is the convolutional (Conv2D) layer. It is like a set of learnable filters. First Conv2D has 32 filters of kernel size (3X3), the second conv2D layers has 64 filters of kernel size (3X3). Each filter transforms a part of the image (defined by the kernel size) using the kernel filter. The kernel filter matrix is applied on the whole image. Filters can be seen as a transformation of the image.\n",
    "- 'relu' is the rectifier (activation function max(0,x). The rectifier activation function is used to add non linearity to the network.\n",
    "- The CNN can isolate features that are useful everywhere from these transformed images (feature maps).\n",
    "- The second important layer in CNN is the pooling (MaxPool2D) layer. This layer simply acts as a downsampling filter. It looks at the 2 neighboring pixels and picks the maximal value. These are used to reduce computational cost, and to some extent also reduce overfitting. We have to choose the pooling size (i.e the area size pooled each time) more the pooling dimension is high, more the downsampling is important.\n",
    "- Combining convolutional and pooling layers, CNN are able to combine local features and learn more global features of the image.\n",
    "- Dropout is a regularization method, where a proportion of nodes in the layer are randomly ignored (setting their wieghts to zero) for each training sample. This drops randomly a propotion of the network and forces the network to learn features in a distributed way. This technique also improves generalization and reduces the overfitting. Here we used dropout after combining Conv2D layer with and MaxPooling with 25% and after 1 Fully Connected Layer with 50%.\n",
    "- The Flatten layer is use to convert the final feature maps into a one single 1D vector. This flattening step is needed so that you can make use of fully connected layers after some convolutional/maxpool layers. It combines all the found local features of the previous convolutional layers.\n",
    "- In the end the features was connected in two fully-connected (Dense) layers which is just artificial neural networks (ANN) classifier. In the last layer(Dense(10,activation=\"softmax\")) the net outputs distribution of probability of each class.\n",
    "- Compiling with categorical crossentropy(Categorical crossentropy is a loss function that is used in multi-class classification tasks. These are tasks where an example can only belong to one out of many possible categories, and the model must decide which one. Formally, it is designed to quantify the difference between two probability distributions) as loss and Adam (Adam optimizer involves a combination of two gradient descent methodologies: Momentum: This algorithm is used to accelerate the gradient descent algorithm by taking into consideration the 'exponentially weighted average' of the gradients. Using averages makes the algorithm converge towards the minima in a faster pace) as optimizer and checking the accuracy Metrics.\n",
    "- Callbacks- A callback is an object that can perform actions at various stages of training (e.g. at the start or end of an epoch, before or after a single batch, etc). You can use callbacks to: Write TensorBoard logs after every batch of training to monitor your metrics. Periodically save your model to disk. Here we are checking for EarlyStopping and Model Checkpoint.\n",
    "- Then Train The Model with batch size =100, and epochs= 15\n",
    "- plotting a Graph of Train and Test Accuracy of Model w.r.t epochs\n",
    "- Saving the model in h5(data file saved in the Hierarchical Data Format (HDF)) format for future loading\n",
    "- Evaluating the Model by checking the Test Loss and Test Accuracy and predicting using np.argmax(is a built-in Numpy function that is used to get the indices of the maximum element from an array (single-dimensional array) or any row or column (multidimensional array) of any given array)."
   ]
  },
  {
   "cell_type": "code",
   "execution_count": 31,
   "id": "085f63b7",
   "metadata": {},
   "outputs": [],
   "source": [
    "model1=Sequential()"
   ]
  },
  {
   "cell_type": "markdown",
   "id": "2ea3d7c6",
   "metadata": {},
   "source": [
    "#### Convolution Layer ( Hidden layers + fully Connected Layers)"
   ]
  },
  {
   "cell_type": "code",
   "execution_count": 34,
   "id": "094059c2",
   "metadata": {},
   "outputs": [],
   "source": [
    " ## activation vector- to make it non linear, <0-remove, >0-allow for second layer.\n",
    "\n",
    "## (26*26)\n",
    "model1.add(Conv2D(32, kernel_size=(3, 3),activation='relu',input_shape=input_shape)) # 32 filters with kernel size 3*3\n",
    "model1.add(Conv2D(64,(3,3),activation='relu')) # (26-3+1)=24 (24*24)\n",
    "\n",
    "model1.add(MaxPooling2D(pool_size=(2, 2))) # (24/2)=12 (12*12)\n",
    "\n",
    "model1.add(Dropout(0.25)) # (12*12)\n",
    "\n",
    "model1.add(Flatten())\n",
    "\n",
    "model1.add(Dense(128,activation=\"relu\"))\n",
    "\n",
    "model1.add(Dropout(0.5))\n",
    "\n",
    "model1.add(Dense(10,activation=\"softmax\"))"
   ]
  },
  {
   "cell_type": "code",
   "execution_count": 35,
   "id": "e938fdbb",
   "metadata": {},
   "outputs": [
    {
     "name": "stdout",
     "output_type": "stream",
     "text": [
      "Model: \"sequential\"\n",
      "_________________________________________________________________\n",
      " Layer (type)                Output Shape              Param #   \n",
      "=================================================================\n",
      " conv2d (Conv2D)             (None, 26, 26, 32)        320       \n",
      "                                                                 \n",
      " conv2d_1 (Conv2D)           (None, 24, 24, 64)        18496     \n",
      "                                                                 \n",
      " conv2d_2 (Conv2D)           (None, 22, 22, 32)        18464     \n",
      "                                                                 \n",
      " conv2d_3 (Conv2D)           (None, 20, 20, 64)        18496     \n",
      "                                                                 \n",
      " max_pooling2d (MaxPooling2D  (None, 10, 10, 64)       0         \n",
      " )                                                               \n",
      "                                                                 \n",
      " dropout (Dropout)           (None, 10, 10, 64)        0         \n",
      "                                                                 \n",
      " flatten (Flatten)           (None, 6400)              0         \n",
      "                                                                 \n",
      " dense (Dense)               (None, 128)               819328    \n",
      "                                                                 \n",
      " dropout_1 (Dropout)         (None, 128)               0         \n",
      "                                                                 \n",
      " dense_1 (Dense)             (None, 10)                1290      \n",
      "                                                                 \n",
      "=================================================================\n",
      "Total params: 876,394\n",
      "Trainable params: 876,394\n",
      "Non-trainable params: 0\n",
      "_________________________________________________________________\n"
     ]
    }
   ],
   "source": [
    "model1.summary()"
   ]
  },
  {
   "cell_type": "markdown",
   "id": "6187257f",
   "metadata": {},
   "source": [
    "#### Compling"
   ]
  },
  {
   "cell_type": "code",
   "execution_count": 36,
   "id": "8218591d",
   "metadata": {},
   "outputs": [],
   "source": [
    "model1.compile(loss=keras.losses.categorical_crossentropy,optimizer=keras.optimizers.Adam(),metrics=['accuracy'])"
   ]
  },
  {
   "cell_type": "markdown",
   "id": "d3381b86",
   "metadata": {},
   "source": [
    "#### Callbacks - EarlyStopping, ModelCheckpoint"
   ]
  },
  {
   "cell_type": "code",
   "execution_count": 1,
   "id": "9a889a26",
   "metadata": {},
   "outputs": [],
   "source": [
    "from keras.callbacks import EarlyStopping, ModelCheckpoint"
   ]
  },
  {
   "cell_type": "code",
   "execution_count": 42,
   "id": "3d421820",
   "metadata": {},
   "outputs": [],
   "source": [
    "## EarlyStopping\n",
    "\n",
    "early_stopping_cnn1=EarlyStopping(monitor='val_accuracy',min_delta=0.01, patience=4, verbose=1)\n",
    "\n",
    "## Modelcheckpoints\n",
    "\n",
    "model_checkpoint_cnn1=ModelCheckpoint(\"./model1.h5\",monitor='val_accuracy',verbose=1,save_best_only=True )\n",
    "\n",
    "cb_cnn1=[early_stopping_cnn1,model_checkpoint_cnn1]"
   ]
  },
  {
   "cell_type": "markdown",
   "id": "775a3720",
   "metadata": {},
   "source": [
    "#### Train the Model 1"
   ]
  },
  {
   "cell_type": "code",
   "execution_count": 39,
   "id": "d3fec9a3",
   "metadata": {},
   "outputs": [
    {
     "name": "stdout",
     "output_type": "stream",
     "text": [
      "Epoch 1/15\n",
      "420/420 [==============================] - ETA: 0s - loss: 0.2464 - accuracy: 0.9249\n",
      "Epoch 1: val_accuracy improved from -inf to 0.97911, saving model to .\\model1.h5\n",
      "420/420 [==============================] - 114s 269ms/step - loss: 0.2464 - accuracy: 0.9249 - val_loss: 0.0667 - val_accuracy: 0.9791\n",
      "Epoch 2/15\n",
      "420/420 [==============================] - ETA: 0s - loss: 0.0849 - accuracy: 0.9764\n",
      "Epoch 2: val_accuracy improved from 0.97911 to 0.98511, saving model to .\\model1.h5\n",
      "420/420 [==============================] - 115s 273ms/step - loss: 0.0849 - accuracy: 0.9764 - val_loss: 0.0481 - val_accuracy: 0.9851\n",
      "Epoch 3/15\n",
      "420/420 [==============================] - ETA: 0s - loss: 0.0660 - accuracy: 0.9799\n",
      "Epoch 3: val_accuracy improved from 0.98511 to 0.98611, saving model to .\\model1.h5\n",
      "420/420 [==============================] - 118s 280ms/step - loss: 0.0660 - accuracy: 0.9799 - val_loss: 0.0456 - val_accuracy: 0.9861\n",
      "Epoch 4/15\n",
      "420/420 [==============================] - ETA: 0s - loss: 0.0526 - accuracy: 0.9844\n",
      "Epoch 4: val_accuracy improved from 0.98611 to 0.98861, saving model to .\\model1.h5\n",
      "420/420 [==============================] - 114s 271ms/step - loss: 0.0526 - accuracy: 0.9844 - val_loss: 0.0405 - val_accuracy: 0.9886\n",
      "Epoch 5/15\n",
      "420/420 [==============================] - ETA: 0s - loss: 0.0463 - accuracy: 0.9858\n",
      "Epoch 5: val_accuracy did not improve from 0.98861\n",
      "420/420 [==============================] - 109s 259ms/step - loss: 0.0463 - accuracy: 0.9858 - val_loss: 0.0450 - val_accuracy: 0.9879\n",
      "Epoch 5: early stopping\n",
      "The model has successfully trained\n"
     ]
    }
   ],
   "source": [
    "batch_size = 100\n",
    "epochs = 15\n",
    "\n",
    "train = model1.fit(X_train, y_train,batch_size=batch_size,epochs=epochs,verbose=1,\n",
    "                  validation_data=(X_test, y_test),validation_split=0.3,callbacks=cb_cnn1)\n",
    "\n",
    "print(\"The model has successfully trained\")"
   ]
  },
  {
   "cell_type": "markdown",
   "id": "cb9694b3",
   "metadata": {},
   "source": [
    "#### Train and Test Accuracy Graph"
   ]
  },
  {
   "cell_type": "code",
   "execution_count": 40,
   "id": "f6e7be95",
   "metadata": {},
   "outputs": [
    {
     "data": {
      "text/plain": [
       "<Figure size 432x288 with 0 Axes>"
      ]
     },
     "execution_count": 40,
     "metadata": {},
     "output_type": "execute_result"
    },
    {
     "data": {
      "image/png": "[encoded data removed]",
      "text/plain": [
       "<Figure size 432x288 with 1 Axes>"
      ]
     },
     "metadata": {
      "needs_background": "light"
     },
     "output_type": "display_data"
    },
    {
     "data": {
      "text/plain": [
       "<Figure size 432x288 with 0 Axes>"
      ]
     },
     "metadata": {},
     "output_type": "display_data"
    }
   ],
   "source": [
    "loss_plt_cnn1=train.history[\"loss\"]\n",
    "accuracy_plt_cnn1=train.history[\"accuracy\"]\n",
    "val_loss_plt_cnn1=train.history[\"val_loss\"]\n",
    "val_accuracy_plt_cnn1=train.history[\"val_accuracy\"]\n",
    "epochs=range(1,len(accuracy_plt_cnn1)+1)\n",
    "plt.plot(epochs,accuracy_plt_cnn1,\"r\",label=\"Training Accuracy\")\n",
    "plt.plot(epochs,val_accuracy_plt_cnn1,\"b\",label=\"Validation Accuracy\")\n",
    "plt.title(\"Training and Validation Accuracy\")\n",
    "plt.xlabel(\"Epochs\")\n",
    "plt.ylabel(\"Accuracy\")\n",
    "plt.legend()\n",
    "plt.figure()"
   ]
  },
  {
   "cell_type": "markdown",
   "id": "c75ffcbc",
   "metadata": {},
   "source": [
    "#### Saving and Loading the Model"
   ]
  },
  {
   "cell_type": "code",
   "execution_count": 45,
   "id": "22982c5e",
   "metadata": {},
   "outputs": [],
   "source": [
    "model_save_cnn1=keras.models.load_model(\"C:/Users/arink/Datamites Capstone Projects/mnist_handwritten_digits_recognition/model1.h5\")"
   ]
  },
  {
   "cell_type": "markdown",
   "id": "b0c396bc",
   "metadata": {},
   "source": [
    "#### Evaluation of the Model 1"
   ]
  },
  {
   "cell_type": "code",
   "execution_count": 47,
   "id": "3e54da08",
   "metadata": {},
   "outputs": [
    {
     "name": "stdout",
     "output_type": "stream",
     "text": [
      "313/313 [==============================] - 5s 16ms/step - loss: 0.0314 - accuracy: 0.9898\n",
      "Test loss: 0.03139176964759827\n",
      "Test accuracy: 0.989799976348877\n"
     ]
    }
   ],
   "source": [
    "score_cnn1 = model_save_cnn1.evaluate(X_test, y_test)\n",
    "print('Test loss:', score_cnn1[0]) #loss\n",
    "print('Test accuracy:', score_cnn1[1]) #accuracy"
   ]
  },
  {
   "cell_type": "code",
   "execution_count": 48,
   "id": "0630a7fc",
   "metadata": {},
   "outputs": [
    {
     "data": {
      "text/plain": [
       "<matplotlib.image.AxesImage at 0x25d64823e80>"
      ]
     },
     "execution_count": 48,
     "metadata": {},
     "output_type": "execute_result"
    },
    {
     "data": {
      "image/png": "[encoded data removed]",
      "text/plain": [
       "<Figure size 432x288 with 1 Axes>"
      ]
     },
     "metadata": {
      "needs_background": "light"
     },
     "output_type": "display_data"
    }
   ],
   "source": [
    "plt.imshow(X_test[40])"
   ]
  },
  {
   "cell_type": "code",
   "execution_count": 49,
   "id": "eda42d48",
   "metadata": {},
   "outputs": [],
   "source": [
    "predictions_cnn1=model_save_cnn1.predict(X_test)"
   ]
  },
  {
   "cell_type": "code",
   "execution_count": 50,
   "id": "383e4f59",
   "metadata": {},
   "outputs": [
    {
     "name": "stdout",
     "output_type": "stream",
     "text": [
      "1\n"
     ]
    }
   ],
   "source": [
    "print(np.argmax(predictions_cnn1[40]))"
   ]
  },
  {
   "cell_type": "markdown",
   "id": "5d759b04",
   "metadata": {},
   "source": [
    "### Model 2 (6 hidden Layers with 2 Dropouts)"
   ]
  },
  {
   "cell_type": "markdown",
   "id": "b725a8dd",
   "metadata": {},
   "source": [
    "-  Combining convolutional and pooling layers, CNN are able to combine local features and learn more global features of the image.The first is the convolutional (Conv2D) layer. It is like a set of learnable filters. First Conv2D has 64 filters of kernel size (3X3), then the pooling (MaxPool2D) layer is used at the 2 neighboring pixels and picks the maximal value. The second conv2D layers has 64 filters of kernel size (3X3) and again a the pooling (MaxPool2D) layer is used at the 2 neighboring pixels and picks the maximal value. The Third  conv2D layers has 128 filters of kernel size (3X3) and again a the pooling (MaxPool2D) layer is used at the 2 neighboring pixels and picks the maximal value. Each filter transforms a part of the image (defined by the kernel size) using the kernel filter. The kernel filter matrix is applied on the whole image. Filters can be seen as a transformation of the image. \n",
    "- 'relu' is the rectifier (activation function max(0,x). The rectifier activation function is used to add non linearity to the network.\n",
    "- The CNN can isolate features that are useful everywhere from these transformed images (feature maps).\n",
    "- Dropout is a regularization method, where a proportion of nodes in the layer are randomly ignored (setting their wieghts to zero) for each training sample. This drops randomly a propotion of the network and forces the network to learn features in a distributed way. This technique also improves generalization and reduces the overfitting. Here we used dropout after combining Conv2D layer and MaxPooling with 25% and after 1 Fully Connected Layer with 50%\n",
    "- The Flatten layer is use to convert the final feature maps into a one single 1D vector. This flattening step is needed so that you can make use of fully connected layers after some convolutional/maxpool layers. It combines all the found local features of the previous convolutional layers.\n",
    "- In the end the features was connected in two fully-connected (Dense) layers which is just artificial neural networks (ANN) classifier. In the last layer(Dense(10,activation=\"softmax\")) the net outputs distribution of probability of each class.\n",
    "- Compiling with categorical crossentropy(Categorical crossentropy is a loss function that is used in multi-class classification tasks. These are tasks where an example can only belong to one out of many possible categories, and the model must decide which one. Formally, it is designed to quantify the difference between two probability distributions) as loss and Adam (Adam optimizer involves a combination of two gradient descent methodologies: Momentum: This algorithm is used to accelerate the gradient descent algorithm by taking into consideration the 'exponentially weighted average' of the gradients. Using averages makes the algorithm converge towards the minima in a faster pace) as optimizer and checking the accuracy Metrics.\n",
    "- Callbacks- A callback is an object that can perform actions at various stages of training (e.g. at the start or end of an epoch, before or after a single batch, etc). You can use callbacks to: Write TensorBoard logs after every batch of training to monitor your metrics. Periodically save your model to disk. Here we are checking for EarlyStopping and Model Checkpoint.\n",
    "- Then Train The Model with batch size =120, and epochs= 20\n",
    "- plotting a Graph of Train and Test Accuracy of Model w.r.t epochs\n",
    "- Saving the model in h5(data file saved in the Hierarchical Data Format (HDF)) format for future loading\n",
    "- Evaluating the Model by checking the Test Loss and Test Accuracy and predicting using np.argmax(is a built-in Numpy function that is used to get the indices of the maximum element from an array (single-dimensional array) or any row or column (multidimensional array) of any given array)."
   ]
  },
  {
   "cell_type": "code",
   "execution_count": 51,
   "id": "b43b9cbf",
   "metadata": {},
   "outputs": [],
   "source": [
    "model_cnn2=Sequential()"
   ]
  },
  {
   "cell_type": "markdown",
   "id": "a28fb1a7",
   "metadata": {},
   "source": [
    "#### Layers"
   ]
  },
  {
   "cell_type": "code",
   "execution_count": 52,
   "id": "29bace04",
   "metadata": {},
   "outputs": [],
   "source": [
    " ## activation vector- to make it non linear, <0-remove, >0-allow for secong layer.\n",
    "    \n",
    "# 1st convolution layer (28-3+1)=26 (26*26)\n",
    "\n",
    "model_cnn2.add(Conv2D(64, kernel_size=(3, 3),activation='relu',input_shape=input_shape)) #(28-3+1)=26 (26*26)\n",
    "model_cnn2.add(MaxPooling2D(pool_size=(2, 2))) # single maximum value 2X2, it will allow this others removed , 26/2=13\n",
    "\n",
    "# 2nd convolution layer \n",
    "\n",
    "model_cnn2.add(Conv2D(64,(3,3),activation='relu')) #13-3+1=11 (11*11)\n",
    "model_cnn2.add(MaxPooling2D(pool_size=(2, 2))) #11/2= 5.5 =5\n",
    "\n",
    "# 3rd convolution layer \n",
    "\n",
    "model_cnn2.add(Conv2D(128,(3,3),activation='relu')) # 5-3+1=2 (3*3)\n",
    "model_cnn2.add(MaxPooling2D(pool_size=(2, 2))) # 3/2= 1.5 =1\n",
    "\n",
    "model_cnn2.add(Dropout(0.25))\n",
    "\n",
    "## before Fully connected layer we need to flatten layer\n",
    "\n",
    "model_cnn2.add(Flatten()) # converting 2D to 1D\n",
    "\n",
    "## to prevent overfitting\n",
    "\n",
    "model_cnn2.add(Dropout(0.5))\n",
    "\n",
    "# now fully connect\n",
    "\n",
    "\n",
    "## we know we have inputs ranging between 0-9 total=10\n",
    "    \n",
    "\n",
    "#2nd fully connect layer\n",
    "model_cnn2.add(Dense(64,activation=\"relu\"))\n",
    "\n",
    " #3rd fully connect layer\n",
    "model_cnn2.add(Dense(10,activation=\"softmax\")) ## activation function changed to softmax(Class Probabilities)\n",
    "## binary classification- one neuron in Dense Layer activation function but multiple class therefore softmax"
   ]
  },
  {
   "cell_type": "code",
   "execution_count": 53,
   "id": "4e32f0f7",
   "metadata": {},
   "outputs": [
    {
     "name": "stdout",
     "output_type": "stream",
     "text": [
      "Model: \"sequential_1\"\n",
      "_________________________________________________________________\n",
      " Layer (type)                Output Shape              Param #   \n",
      "=================================================================\n",
      " conv2d_4 (Conv2D)           (None, 26, 26, 64)        640       \n",
      "                                                                 \n",
      " max_pooling2d_1 (MaxPooling  (None, 13, 13, 64)       0         \n",
      " 2D)                                                             \n",
      "                                                                 \n",
      " conv2d_5 (Conv2D)           (None, 11, 11, 64)        36928     \n",
      "                                                                 \n",
      " max_pooling2d_2 (MaxPooling  (None, 5, 5, 64)         0         \n",
      " 2D)                                                             \n",
      "                                                                 \n",
      " conv2d_6 (Conv2D)           (None, 3, 3, 128)         73856     \n",
      "                                                                 \n",
      " max_pooling2d_3 (MaxPooling  (None, 1, 1, 128)        0         \n",
      " 2D)                                                             \n",
      "                                                                 \n",
      " dropout_2 (Dropout)         (None, 1, 1, 128)         0         \n",
      "                                                                 \n",
      " flatten_1 (Flatten)         (None, 128)               0         \n",
      "                                                                 \n",
      " dropout_3 (Dropout)         (None, 128)               0         \n",
      "                                                                 \n",
      " dense_2 (Dense)             (None, 64)                8256      \n",
      "                                                                 \n",
      " dense_3 (Dense)             (None, 10)                650       \n",
      "                                                                 \n",
      "=================================================================\n",
      "Total params: 120,330\n",
      "Trainable params: 120,330\n",
      "Non-trainable params: 0\n",
      "_________________________________________________________________\n"
     ]
    }
   ],
   "source": [
    "model_cnn2.summary()"
   ]
  },
  {
   "cell_type": "markdown",
   "id": "1b0eb1d9",
   "metadata": {},
   "source": [
    "#### Compile"
   ]
  },
  {
   "cell_type": "code",
   "execution_count": 70,
   "id": "6d04267d",
   "metadata": {},
   "outputs": [],
   "source": [
    "\n",
    "model_cnn2.compile(loss=keras.losses.categorical_crossentropy,optimizer=keras.optimizers.Adam(),metrics=['accuracy'])"
   ]
  },
  {
   "cell_type": "markdown",
   "id": "441ad4bc",
   "metadata": {},
   "source": [
    "#### Callbacks"
   ]
  },
  {
   "cell_type": "markdown",
   "id": "92b2186e",
   "metadata": {},
   "source": [
    "from keras.callbacks import EarlyStopping, ModelCheckpoint"
   ]
  },
  {
   "cell_type": "code",
   "execution_count": 71,
   "id": "9b32a17c",
   "metadata": {},
   "outputs": [],
   "source": [
    "## EarlyStopping\n",
    "\n",
    "early_stopping_cnn2=EarlyStopping(monitor='val_accuracy',min_delta=0.01, patience=4, verbose=1)\n",
    "\n",
    "## Modelcheckpoints\n",
    "\n",
    "model_checkpoint_cnn2=ModelCheckpoint(\"./model2.h5\",monitor='val_accuracy',verbose=1,save_best_only=True )\n",
    "\n",
    "cb_cnn2=[early_stopping_cnn2,model_checkpoint_cnn2]"
   ]
  },
  {
   "cell_type": "markdown",
   "id": "1c8611cc",
   "metadata": {},
   "source": [
    "#### Train the Model 2"
   ]
  },
  {
   "cell_type": "code",
   "execution_count": 72,
   "id": "c9461841",
   "metadata": {},
   "outputs": [
    {
     "name": "stdout",
     "output_type": "stream",
     "text": [
      "Epoch 1/20\n",
      "350/350 [==============================] - ETA: 0s - loss: 0.0741 - accuracy: 0.9785\n",
      "Epoch 1: val_accuracy improved from -inf to 0.98644, saving model to .\\model2.h5\n",
      "350/350 [==============================] - 40s 114ms/step - loss: 0.0741 - accuracy: 0.9785 - val_loss: 0.0488 - val_accuracy: 0.9864\n",
      "Epoch 2/20\n",
      "350/350 [==============================] - ETA: 0s - loss: 0.0702 - accuracy: 0.9796\n",
      "Epoch 2: val_accuracy improved from 0.98644 to 0.98672, saving model to .\\model2.h5\n",
      "350/350 [==============================] - 39s 111ms/step - loss: 0.0702 - accuracy: 0.9796 - val_loss: 0.0463 - val_accuracy: 0.9867\n",
      "Epoch 3/20\n",
      "350/350 [==============================] - ETA: 0s - loss: 0.0650 - accuracy: 0.9803\n",
      "Epoch 3: val_accuracy did not improve from 0.98672\n",
      "350/350 [==============================] - 39s 112ms/step - loss: 0.0650 - accuracy: 0.9803 - val_loss: 0.0581 - val_accuracy: 0.9835\n",
      "Epoch 4/20\n",
      "350/350 [==============================] - ETA: 0s - loss: 0.0597 - accuracy: 0.9823\n",
      "Epoch 4: val_accuracy improved from 0.98672 to 0.98783, saving model to .\\model2.h5\n",
      "350/350 [==============================] - 38s 108ms/step - loss: 0.0597 - accuracy: 0.9823 - val_loss: 0.0428 - val_accuracy: 0.9878\n",
      "Epoch 5/20\n",
      "350/350 [==============================] - ETA: 0s - loss: 0.0556 - accuracy: 0.9825\n",
      "Epoch 5: val_accuracy did not improve from 0.98783\n",
      "350/350 [==============================] - 38s 108ms/step - loss: 0.0556 - accuracy: 0.9825 - val_loss: 0.0449 - val_accuracy: 0.9876\n",
      "Epoch 5: early stopping\n",
      "The model has successfully trained\n"
     ]
    }
   ],
   "source": [
    "batch_size = 120\n",
    "epochs = 20\n",
    "\n",
    "train_cnn2 = model_cnn2.fit(X_train, y_train,batch_size=batch_size,epochs=epochs,verbose=1,\n",
    "                  validation_data=(X_test, y_test),validation_split=0.3,callbacks=cb_cnn2)\n",
    "\n",
    "print(\"The model has successfully trained\")"
   ]
  },
  {
   "cell_type": "markdown",
   "id": "3656b937",
   "metadata": {},
   "source": [
    "#### Train Test Accuracy Graph"
   ]
  },
  {
   "cell_type": "code",
   "execution_count": 57,
   "id": "44814050",
   "metadata": {},
   "outputs": [
    {
     "data": {
      "text/plain": [
       "<Figure size 432x288 with 0 Axes>"
      ]
     },
     "execution_count": 57,
     "metadata": {},
     "output_type": "execute_result"
    },
    {
     "data": {
      "image/png": "[encoded data removed]",
      "text/plain": [
       "<Figure size 432x288 with 1 Axes>"
      ]
     },
     "metadata": {
      "needs_background": "light"
     },
     "output_type": "display_data"
    },
    {
     "data": {
      "text/plain": [
       "<Figure size 432x288 with 0 Axes>"
      ]
     },
     "metadata": {},
     "output_type": "display_data"
    }
   ],
   "source": [
    "loss_plt_cnn2=train_cnn2.history[\"loss\"]\n",
    "accuracy_plt_cnn2=train_cnn2.history[\"accuracy\"]\n",
    "val_loss_plt_cnn2=train_cnn2.history[\"val_loss\"]\n",
    "val_accuracy_plt_cnn2=train_cnn2.history[\"val_accuracy\"]\n",
    "epochs=range(1,len(accuracy_plt_cnn2)+1)\n",
    "plt.plot(epochs,accuracy_plt_cnn2,\"r\",label=\"Training Accuracy\")\n",
    "plt.plot(epochs,val_accuracy_plt_cnn2,\"b\",label=\"Validation Accuracy\")\n",
    "plt.title(\"Training and Validation Accuracy\")\n",
    "plt.xlabel(\"Epochs\")\n",
    "plt.ylabel(\"Accuracy\")\n",
    "plt.legend()\n",
    "plt.figure()"
   ]
  },
  {
   "cell_type": "markdown",
   "id": "466b274f",
   "metadata": {},
   "source": [
    "#### Saving and Loading the Model 2"
   ]
  },
  {
   "cell_type": "code",
   "execution_count": 59,
   "id": "7579dc68",
   "metadata": {},
   "outputs": [],
   "source": [
    "model_save_cnn2=keras.models.load_model(\"C:/Users/arink/Datamites Capstone Projects/mnist_handwritten_digits_recognition/model2.h5\")"
   ]
  },
  {
   "cell_type": "markdown",
   "id": "b6215878",
   "metadata": {},
   "source": [
    "#### Evaluating the Model 2"
   ]
  },
  {
   "cell_type": "code",
   "execution_count": 60,
   "id": "212999af",
   "metadata": {},
   "outputs": [
    {
     "name": "stdout",
     "output_type": "stream",
     "text": [
      "313/313 [==============================] - 3s 10ms/step - loss: 0.0531 - accuracy: 0.9842\n",
      "Test loss: 0.05305422842502594\n",
      "Test accuracy: 0.9842000007629395\n"
     ]
    }
   ],
   "source": [
    "score_cnn2 = model_save_cnn2.evaluate(X_test, y_test)\n",
    "print('Test loss:', score_cnn2[0]) #loss\n",
    "print('Test accuracy:', score_cnn2[1]) #accuracy"
   ]
  },
  {
   "cell_type": "code",
   "execution_count": 61,
   "id": "43c45050",
   "metadata": {},
   "outputs": [
    {
     "data": {
      "text/plain": [
       "<matplotlib.image.AxesImage at 0x25d65279fd0>"
      ]
     },
     "execution_count": 61,
     "metadata": {},
     "output_type": "execute_result"
    },
    {
     "data": {
      "image/png": "[encoded data removed]",
      "text/plain": [
       "<Figure size 432x288 with 1 Axes>"
      ]
     },
     "metadata": {
      "needs_background": "light"
     },
     "output_type": "display_data"
    }
   ],
   "source": [
    "plt.imshow(X_test[78])"
   ]
  },
  {
   "cell_type": "code",
   "execution_count": 62,
   "id": "5b76d595",
   "metadata": {},
   "outputs": [],
   "source": [
    "prediction_cnn2=model_save_cnn2.predict(X_test)"
   ]
  },
  {
   "cell_type": "code",
   "execution_count": 63,
   "id": "81a8a7ef",
   "metadata": {},
   "outputs": [
    {
     "name": "stdout",
     "output_type": "stream",
     "text": [
      "9\n"
     ]
    }
   ],
   "source": [
    "print(np.argmax(prediction_cnn2[78]))"
   ]
  },
  {
   "cell_type": "markdown",
   "id": "2af081fb",
   "metadata": {},
   "source": [
    "\n",
    "### Model 3  (3 Hidden Layers and Without Dropouts)"
   ]
  },
  {
   "cell_type": "markdown",
   "id": "d1d80287",
   "metadata": {},
   "source": [
    "- The first is the convolutional (Conv2D) layer. It is like a set of learnable filters. First Conv2D has 32 filters of kernel size (3X3), the second conv2D layers has 64 filters of kernel size (3X3). Each filter transforms a part of the image (defined by the kernel size) using the kernel filter. The kernel filter matrix is applied on the whole image. Filters can be seen as a transformation of the image.\n",
    "- 'relu' is the rectifier (activation function max(0,x). The rectifier activation function is used to add non linearity to the network.\n",
    "- The CNN can isolate features that are useful everywhere from these transformed images (feature maps).\n",
    "- The second important layer in CNN is the pooling (MaxPool2D) layer. This layer simply acts as a downsampling filter. It looks at the 2 neighboring pixels and picks the maximal value. These are used to reduce computational cost, and to some extent also reduce overfitting. We have to choose the pooling size (i.e the area size pooled each time) more the pooling dimension is high, more the downsampling is important.\n",
    "- Combining convolutional and pooling layers, CNN are able to combine local features and learn more global features of the image.\n",
    "- Dropout is a regularization method, where a proportion of nodes in the layer are randomly ignored (setting their wieghts to zero) for each training sample. This drops randomly a propotion of the network and forces the network to learn features in a distributed way. This technique also improves generalization and reduces the overfitting. Here we used dropout after combining Conv2D layer and MaxPooling and after 1 Fully Connected Layer.\n",
    "- The Flatten layer is use to convert the final feature maps into a one single 1D vector. This flattening step is needed so that you can make use of fully connected layers after some convolutional/maxpool layers. It combines all the found local features of the previous convolutional layers.\n",
    "- In the end the features was connected in two fully-connected (Dense) layers which is just artificial neural networks (ANN) classifier. In the last layer(Dense(10,activation=\"softmax\")) the net outputs distribution of probability of each class.\n",
    "- Compiling with categorical crossentropy(Categorical crossentropy is a loss function that is used in multi-class classification tasks. These are tasks where an example can only belong to one out of many possible categories, and the model must decide which one. Formally, it is designed to quantify the difference between two probability distributions) as loss and Adam (Adam optimizer involves a combination of two gradient descent methodologies: Momentum: This algorithm is used to accelerate the gradient descent algorithm by taking into consideration the 'exponentially weighted average' of the gradients. Using averages makes the algorithm converge towards the minima in a faster pace) as optimizer and checking the accuracy Metrics.\n",
    "- Callbacks- A callback is an object that can perform actions at various stages of training (e.g. at the start or end of an epoch, before or after a single batch, etc). You can use callbacks to: Write TensorBoard logs after every batch of training to monitor your metrics. Periodically save your model to disk. Here we are checking for EarlyStopping and Model Checkpoint.\n",
    "- Then Train The Model with batch size =120, and epochs= 15\n",
    "- plotting a Graph of Train and Test Accuracy of Model w.r.t epochs\n",
    "- Saving the model in h5(data file saved in the Hierarchical Data Format (HDF)) format for future loading\n",
    "- Evaluating the Model by checking the Test Loss and Test Accuracy and predicting using np.argmax(is a built-in Numpy function that is used to get the indices of the maximum element from an array (single-dimensional array) or any row or column (multidimensional array) of any given array)."
   ]
  },
  {
   "cell_type": "code",
   "execution_count": 73,
   "id": "c36d6049",
   "metadata": {},
   "outputs": [],
   "source": [
    "model_cnn3=Sequential()"
   ]
  },
  {
   "cell_type": "markdown",
   "id": "ff800db2",
   "metadata": {},
   "source": [
    "#### Layers"
   ]
  },
  {
   "cell_type": "code",
   "execution_count": 74,
   "id": "2826a888",
   "metadata": {},
   "outputs": [],
   "source": [
    "model_cnn3.add(Conv2D(32, kernel_size=(3, 3),activation='relu',input_shape=input_shape)) # 32 filters with kernel size 3*3\n",
    "model_cnn3.add(Conv2D(64,(3,3),activation='relu'))\n",
    "\n",
    "model_cnn3.add(MaxPooling2D(pool_size=(2, 2)))\n",
    "\n",
    "model_cnn3.add(Flatten())\n",
    "\n",
    "model_cnn3.add(Dense(128,activation=\"relu\"))\n",
    "\n",
    "model_cnn3.add(Dense(10,activation=\"softmax\"))"
   ]
  },
  {
   "cell_type": "code",
   "execution_count": 75,
   "id": "06bbd005",
   "metadata": {},
   "outputs": [
    {
     "name": "stdout",
     "output_type": "stream",
     "text": [
      "Model: \"sequential_3\"\n",
      "_________________________________________________________________\n",
      " Layer (type)                Output Shape              Param #   \n",
      "=================================================================\n",
      " conv2d_9 (Conv2D)           (None, 26, 26, 32)        320       \n",
      "                                                                 \n",
      " conv2d_10 (Conv2D)          (None, 24, 24, 64)        18496     \n",
      "                                                                 \n",
      " max_pooling2d_5 (MaxPooling  (None, 12, 12, 64)       0         \n",
      " 2D)                                                             \n",
      "                                                                 \n",
      " flatten_3 (Flatten)         (None, 9216)              0         \n",
      "                                                                 \n",
      " dense_6 (Dense)             (None, 128)               1179776   \n",
      "                                                                 \n",
      " dense_7 (Dense)             (None, 10)                1290      \n",
      "                                                                 \n",
      "=================================================================\n",
      "Total params: 1,199,882\n",
      "Trainable params: 1,199,882\n",
      "Non-trainable params: 0\n",
      "_________________________________________________________________\n"
     ]
    }
   ],
   "source": [
    "model_cnn3.summary()"
   ]
  },
  {
   "cell_type": "markdown",
   "id": "5579fb58",
   "metadata": {},
   "source": [
    "#### Compile"
   ]
  },
  {
   "cell_type": "code",
   "execution_count": 76,
   "id": "18cf5b99",
   "metadata": {},
   "outputs": [],
   "source": [
    "model_cnn3.compile(loss=keras.losses.categorical_crossentropy,optimizer=keras.optimizers.Adam(),metrics=['accuracy'])"
   ]
  },
  {
   "cell_type": "markdown",
   "id": "4c018ad2",
   "metadata": {},
   "source": [
    "#### Callbacks"
   ]
  },
  {
   "cell_type": "code",
   "execution_count": 77,
   "id": "fc1dae27",
   "metadata": {},
   "outputs": [],
   "source": [
    "## EarlyStopping\n",
    "\n",
    "early_stopping_cnn3=EarlyStopping(monitor='val_accuracy',min_delta=0.01, patience=4, verbose=1)\n",
    "\n",
    "## Modelcheckpoints\n",
    "\n",
    "model_checkpoint_cnn3=ModelCheckpoint(\"./model3.h5\",monitor='val_accuracy',verbose=1,save_best_only=True )\n",
    "\n",
    "cb_cnn3=[early_stopping_cnn3,model_checkpoint_cnn3]"
   ]
  },
  {
   "cell_type": "markdown",
   "id": "84cdd531",
   "metadata": {},
   "source": [
    "#### Train Model 3"
   ]
  },
  {
   "cell_type": "code",
   "execution_count": 78,
   "id": "14c278f7",
   "metadata": {},
   "outputs": [
    {
     "name": "stdout",
     "output_type": "stream",
     "text": [
      "Epoch 1/15\n",
      "350/350 [==============================] - ETA: 0s - loss: 0.1965 - accuracy: 0.9389\n",
      "Epoch 1: val_accuracy improved from -inf to 0.97533, saving model to .\\model3.h5\n",
      "350/350 [==============================] - 56s 161ms/step - loss: 0.1965 - accuracy: 0.9389 - val_loss: 0.0844 - val_accuracy: 0.9753\n",
      "Epoch 2/15\n",
      "350/350 [==============================] - ETA: 0s - loss: 0.0527 - accuracy: 0.9839\n",
      "Epoch 2: val_accuracy improved from 0.97533 to 0.98161, saving model to .\\model3.h5\n",
      "350/350 [==============================] - 57s 162ms/step - loss: 0.0527 - accuracy: 0.9839 - val_loss: 0.0630 - val_accuracy: 0.9816\n",
      "Epoch 3/15\n",
      "350/350 [==============================] - ETA: 0s - loss: 0.0319 - accuracy: 0.9897\n",
      "Epoch 3: val_accuracy improved from 0.98161 to 0.98228, saving model to .\\model3.h5\n",
      "350/350 [==============================] - 55s 158ms/step - loss: 0.0319 - accuracy: 0.9897 - val_loss: 0.0617 - val_accuracy: 0.9823\n",
      "Epoch 4/15\n",
      "350/350 [==============================] - ETA: 0s - loss: 0.0225 - accuracy: 0.9927\n",
      "Epoch 4: val_accuracy improved from 0.98228 to 0.98433, saving model to .\\model3.h5\n",
      "350/350 [==============================] - 57s 164ms/step - loss: 0.0225 - accuracy: 0.9927 - val_loss: 0.0528 - val_accuracy: 0.9843\n",
      "Epoch 5/15\n",
      "350/350 [==============================] - ETA: 0s - loss: 0.0148 - accuracy: 0.9951\n",
      "Epoch 5: val_accuracy did not improve from 0.98433\n",
      "350/350 [==============================] - 57s 162ms/step - loss: 0.0148 - accuracy: 0.9951 - val_loss: 0.0664 - val_accuracy: 0.9807\n",
      "Epoch 5: early stopping\n",
      "The model has successfully trained\n"
     ]
    }
   ],
   "source": [
    "batch_size = 120\n",
    "epochs = 15\n",
    "\n",
    "train_cnn3 = model_cnn3.fit(X_train, y_train,batch_size=batch_size,epochs=epochs,verbose=1,\n",
    "                  validation_data=(X_test, y_test),validation_split=0.3,callbacks=cb_cnn3)\n",
    "\n",
    "print(\"The model has successfully trained\")"
   ]
  },
  {
   "cell_type": "markdown",
   "id": "dd241b55",
   "metadata": {},
   "source": [
    "#### Train Test Accuracy Graph"
   ]
  },
  {
   "cell_type": "code",
   "execution_count": 79,
   "id": "27678948",
   "metadata": {},
   "outputs": [
    {
     "data": {
      "text/plain": [
       "<Figure size 432x288 with 0 Axes>"
      ]
     },
     "execution_count": 79,
     "metadata": {},
     "output_type": "execute_result"
    },
    {
     "data": {
      "image/png": "[encoded data removed]",
      "text/plain": [
       "<Figure size 432x288 with 1 Axes>"
      ]
     },
     "metadata": {
      "needs_background": "light"
     },
     "output_type": "display_data"
    },
    {
     "data": {
      "text/plain": [
       "<Figure size 432x288 with 0 Axes>"
      ]
     },
     "metadata": {},
     "output_type": "display_data"
    }
   ],
   "source": [
    "loss_plt_cnn3=train_cnn3.history[\"loss\"]\n",
    "accuracy_plt_cnn3=train_cnn3.history[\"accuracy\"]\n",
    "val_loss_plt_cnn3=train_cnn3.history[\"val_loss\"]\n",
    "val_accuracy_plt_cnn3=train_cnn3.history[\"val_accuracy\"]\n",
    "epochs=range(1,len(accuracy_plt_cnn3)+1)\n",
    "plt.plot(epochs,accuracy_plt_cnn3,\"r\",label=\"Training Accuracy\")\n",
    "plt.plot(epochs,val_accuracy_plt_cnn3,\"b\",label=\"Validation Accuracy\")\n",
    "plt.title(\"Training and Validation Accuracy\")\n",
    "plt.xlabel(\"Epochs\")\n",
    "plt.ylabel(\"Accuracy\")\n",
    "plt.legend()\n",
    "plt.figure()"
   ]
  },
  {
   "cell_type": "markdown",
   "id": "a9fc651b",
   "metadata": {},
   "source": [
    "#### Saving and Loading Model 3"
   ]
  },
  {
   "cell_type": "code",
   "execution_count": 81,
   "id": "c73dfaa4",
   "metadata": {},
   "outputs": [],
   "source": [
    "model_save_cnn3=keras.models.load_model(\"C:/Users/arink/Datamites Capstone Projects/mnist_handwritten_digits_recognition/model3.h5\")"
   ]
  },
  {
   "cell_type": "markdown",
   "id": "f3f569ec",
   "metadata": {},
   "source": [
    "#### Evaluate Model 3"
   ]
  },
  {
   "cell_type": "code",
   "execution_count": 82,
   "id": "a2d86935",
   "metadata": {},
   "outputs": [
    {
     "name": "stdout",
     "output_type": "stream",
     "text": [
      "313/313 [==============================] - 3s 10ms/step - loss: 0.0408 - accuracy: 0.9866\n",
      "Test loss: 0.04077254235744476\n",
      "Test accuracy: 0.9865999817848206\n"
     ]
    }
   ],
   "source": [
    "score_cnn3 = model_save_cnn3.evaluate(X_test, y_test)\n",
    "print('Test loss:', score_cnn3[0]) #loss\n",
    "print('Test accuracy:', score_cnn3[1]) #accuracy"
   ]
  },
  {
   "cell_type": "code",
   "execution_count": 83,
   "id": "fe437a43",
   "metadata": {},
   "outputs": [
    {
     "data": {
      "text/plain": [
       "<matplotlib.image.AxesImage at 0x25d64deb0d0>"
      ]
     },
     "execution_count": 83,
     "metadata": {},
     "output_type": "execute_result"
    },
    {
     "data": {
      "image/png": "[encoded data removed]",
      "text/plain": [
       "<Figure size 432x288 with 1 Axes>"
      ]
     },
     "metadata": {
      "needs_background": "light"
     },
     "output_type": "display_data"
    }
   ],
   "source": [
    "plt.imshow(X_test[99])"
   ]
  },
  {
   "cell_type": "code",
   "execution_count": 84,
   "id": "a7a66534",
   "metadata": {},
   "outputs": [],
   "source": [
    "prediction_cnn3=model_save_cnn3.predict(X_test)"
   ]
  },
  {
   "cell_type": "code",
   "execution_count": 85,
   "id": "c14e0331",
   "metadata": {},
   "outputs": [
    {
     "name": "stdout",
     "output_type": "stream",
     "text": [
      "9\n"
     ]
    }
   ],
   "source": [
    "print(np.argmax(prediction_cnn3[99]))"
   ]
  },
  {
   "cell_type": "markdown",
   "id": "2e10839c",
   "metadata": {},
   "source": [
    "### Model 4 (6 Hidden Layers without Dropouts)"
   ]
  },
  {
   "cell_type": "markdown",
   "id": "37ea5d47",
   "metadata": {},
   "source": [
    "-  Combining convolutional and pooling layers, CNN are able to combine local features and learn more global features of the image.The first is the convolutional (Conv2D) layer. It is like a set of learnable filters. First Conv2D has 64 filters of kernel size (3X3), then the pooling (MaxPool2D) layer is used at the 2 neighboring pixels and picks the maximal value. The second conv2D layers has 64 filters of kernel size (3X3) and again a the pooling (MaxPool2D) layer is used at the 2 neighboring pixels and picks the maximal value. The Third  conv2D layers has 128 filters of kernel size (3X3) and again a the pooling (MaxPool2D) layer is used at the 2 neighboring pixels and picks the maximal value. Each filter transforms a part of the image (defined by the kernel size) using the kernalfilter. The kernel filter matrix is applied on the whole image. Filters can be seen as a transformation of the image.\n",
    "- 'relu' is the rectifier (activation function max(0,x). The rectifier activation function is used to add non linearity to the network.\n",
    "- The CNN can isolate features that are useful everywhere from these transformed images (feature maps).\n",
    "- No Dropout was taken.\n",
    "- The Flatten layer is use to convert the final feature maps into a one single 1D vector. This flattening step is needed so that you can make use of fully connected layers after some convolutional/maxpool layers. It combines all the found local features of the previous convolutional layers.\n",
    "- In the end the features was connected in two fully-connected (Dense) layers which is just artificial neural networks (ANN) classifier. In the last layer(Dense(10,activation=\"softmax\")) the net outputs distribution of probability of each class.\n",
    "- Compiling with categorical crossentropy(Categorical crossentropy is a loss function that is used in multi-class classification tasks. These are tasks where an example can only belong to one out of many possible categories, and the model must decide which one. Formally, it is designed to quantify the difference between two probability distributions) as loss and Adam (Adam optimizer involves a combination of two gradient descent methodologies: Momentum: This algorithm is used to accelerate the gradient descent algorithm by taking into consideration the 'exponentially weighted average' of the gradients. Using averages makes the algorithm converge towards the minima in a faster pace) as optimizer and checking the accuracy Metrics.\n",
    "- Callbacks- A callback is an object that can perform actions at various stages of training (e.g. at the start or end of an epoch, before or after a single batch, etc). You can use callbacks to: Write TensorBoard logs after every batch of training to monitor your metrics. Periodically save your model to disk. Here we are checking for EarlyStopping and Model Checkpoint.\n",
    "- Then Train The Model with batch size =100, and epochs= 15\n",
    "- plotting a Graph of Train and Test Accuracy of Model w.r.t epochs\n",
    "- Saving the model in h5(data file saved in the Hierarchical Data Format (HDF)) format for future loading\n",
    "- Evaluating the Model by checking the Test Loss and Test Accuracy and predicting using np.argmax(is a built-in Numpy function that is used to get the indices of the maximum element from an array (single-dimensional array) or any row or column (multidimensional array) of any given array)."
   ]
  },
  {
   "cell_type": "code",
   "execution_count": 86,
   "id": "7a396489",
   "metadata": {},
   "outputs": [],
   "source": [
    "model_cnn4=Sequential()"
   ]
  },
  {
   "cell_type": "markdown",
   "id": "7def0073",
   "metadata": {},
   "source": [
    "#### Layers"
   ]
  },
  {
   "cell_type": "code",
   "execution_count": 87,
   "id": "509fb09d",
   "metadata": {},
   "outputs": [],
   "source": [
    " ## activation vector- to make it non linear, <0-remove, >0-allow for secong layer.\n",
    "    \n",
    "# 1st convolution layer (28-3+1)=26 (26*26)\n",
    "\n",
    "model_cnn4.add(Conv2D(64, kernel_size=(3, 3),activation='relu',input_shape=input_shape)) #(28-3+1)=26 (26*26)\n",
    "model_cnn4.add(MaxPooling2D(pool_size=(2, 2))) # single maximum value 2X2, it will allow this others removed , 26/2=13\n",
    "\n",
    "# 2nd convolution layer \n",
    "\n",
    "model_cnn4.add(Conv2D(64,(3,3),activation='relu')) #13-3+1=11 (11*11)\n",
    "model_cnn4.add(MaxPooling2D(pool_size=(2, 2))) #11/2= 5.5 =5\n",
    "\n",
    "# 3rd convolution layer \n",
    "\n",
    "model_cnn4.add(Conv2D(128,(3,3),activation='relu')) # 5-3+1=2 (3*3)\n",
    "model_cnn4.add(MaxPooling2D(pool_size=(2, 2))) # 3/2= 1.5 =1\n",
    "\n",
    "\n",
    "## before Fully connected layer we need to flatten layer\n",
    "\n",
    "model_cnn4.add(Flatten()) # converting 2D to 1D\n",
    "\n",
    "# now fully connect\n",
    "\n",
    "\n",
    "## we know we have inputs ranging between 0-9 total=10\n",
    "    \n",
    "\n",
    "#2nd fully connect layer\n",
    "model_cnn4.add(Dense(64,activation=\"relu\"))\n",
    "\n",
    " #3rd fully connect layer\n",
    "model_cnn4.add(Dense(10,activation=\"softmax\")) ## activation function changed to softmax(Class Probabilities)\n",
    "## binary classification- one neuron in Dense Layer activation function but multiple class therefore softmax"
   ]
  },
  {
   "cell_type": "code",
   "execution_count": 88,
   "id": "038c0f98",
   "metadata": {},
   "outputs": [
    {
     "name": "stdout",
     "output_type": "stream",
     "text": [
      "Model: \"sequential_4\"\n",
      "_________________________________________________________________\n",
      " Layer (type)                Output Shape              Param #   \n",
      "=================================================================\n",
      " conv2d_11 (Conv2D)          (None, 26, 26, 64)        640       \n",
      "                                                                 \n",
      " max_pooling2d_6 (MaxPooling  (None, 13, 13, 64)       0         \n",
      " 2D)                                                             \n",
      "                                                                 \n",
      " conv2d_12 (Conv2D)          (None, 11, 11, 64)        36928     \n",
      "                                                                 \n",
      " max_pooling2d_7 (MaxPooling  (None, 5, 5, 64)         0         \n",
      " 2D)                                                             \n",
      "                                                                 \n",
      " conv2d_13 (Conv2D)          (None, 3, 3, 128)         73856     \n",
      "                                                                 \n",
      " max_pooling2d_8 (MaxPooling  (None, 1, 1, 128)        0         \n",
      " 2D)                                                             \n",
      "                                                                 \n",
      " flatten_4 (Flatten)         (None, 128)               0         \n",
      "                                                                 \n",
      " dense_8 (Dense)             (None, 64)                8256      \n",
      "                                                                 \n",
      " dense_9 (Dense)             (None, 10)                650       \n",
      "                                                                 \n",
      "=================================================================\n",
      "Total params: 120,330\n",
      "Trainable params: 120,330\n",
      "Non-trainable params: 0\n",
      "_________________________________________________________________\n"
     ]
    }
   ],
   "source": [
    "model_cnn4.summary()"
   ]
  },
  {
   "cell_type": "markdown",
   "id": "35482bda",
   "metadata": {},
   "source": [
    "#### Compile"
   ]
  },
  {
   "cell_type": "code",
   "execution_count": 89,
   "id": "0dbc36f7",
   "metadata": {},
   "outputs": [],
   "source": [
    "model_cnn4.compile(loss=keras.losses.categorical_crossentropy,optimizer=keras.optimizers.Adam(),metrics=['accuracy'])"
   ]
  },
  {
   "cell_type": "markdown",
   "id": "3725bf84",
   "metadata": {},
   "source": [
    "#### Callbacks"
   ]
  },
  {
   "cell_type": "code",
   "execution_count": 90,
   "id": "cf307ecd",
   "metadata": {},
   "outputs": [],
   "source": [
    "## EarlyStopping\n",
    "\n",
    "early_stopping_cnn4=EarlyStopping(monitor='val_accuracy',min_delta=0.01, patience=4, verbose=1)\n",
    "\n",
    "## Modelcheckpoints\n",
    "\n",
    "model_checkpoint_cnn4=ModelCheckpoint(\"./model4.h5\",monitor='val_accuracy',verbose=1,save_best_only=True )\n",
    "\n",
    "cb_cnn4=[early_stopping_cnn4,model_checkpoint_cnn4]"
   ]
  },
  {
   "cell_type": "markdown",
   "id": "29f5b23c",
   "metadata": {},
   "source": [
    "#### Train the Model 4"
   ]
  },
  {
   "cell_type": "code",
   "execution_count": 91,
   "id": "75ab35ee",
   "metadata": {},
   "outputs": [
    {
     "name": "stdout",
     "output_type": "stream",
     "text": [
      "Epoch 1/20\n",
      "350/350 [==============================] - ETA: 0s - loss: 0.3738 - accuracy: 0.8892\n",
      "Epoch 1: val_accuracy improved from -inf to 0.96506, saving model to .\\model4.h5\n",
      "350/350 [==============================] - 37s 104ms/step - loss: 0.3738 - accuracy: 0.8892 - val_loss: 0.1189 - val_accuracy: 0.9651\n",
      "Epoch 2/20\n",
      "350/350 [==============================] - ETA: 0s - loss: 0.1038 - accuracy: 0.9685\n",
      "Epoch 2: val_accuracy improved from 0.96506 to 0.97367, saving model to .\\model4.h5\n",
      "350/350 [==============================] - 36s 103ms/step - loss: 0.1038 - accuracy: 0.9685 - val_loss: 0.0881 - val_accuracy: 0.9737\n",
      "Epoch 3/20\n",
      "350/350 [==============================] - ETA: 0s - loss: 0.0749 - accuracy: 0.9774\n",
      "Epoch 3: val_accuracy improved from 0.97367 to 0.97583, saving model to .\\model4.h5\n",
      "350/350 [==============================] - 40s 114ms/step - loss: 0.0749 - accuracy: 0.9774 - val_loss: 0.0763 - val_accuracy: 0.9758\n",
      "Epoch 4/20\n",
      "350/350 [==============================] - ETA: 0s - loss: 0.0597 - accuracy: 0.9823\n",
      "Epoch 4: val_accuracy improved from 0.97583 to 0.98278, saving model to .\\model4.h5\n",
      "350/350 [==============================] - 40s 116ms/step - loss: 0.0597 - accuracy: 0.9823 - val_loss: 0.0576 - val_accuracy: 0.9828\n",
      "Epoch 5/20\n",
      "350/350 [==============================] - ETA: 0s - loss: 0.0478 - accuracy: 0.9850\n",
      "Epoch 5: val_accuracy did not improve from 0.98278\n",
      "350/350 [==============================] - 41s 116ms/step - loss: 0.0478 - accuracy: 0.9850 - val_loss: 0.0732 - val_accuracy: 0.9770\n",
      "Epoch 6/20\n",
      "350/350 [==============================] - ETA: 0s - loss: 0.0416 - accuracy: 0.9868\n",
      "Epoch 6: val_accuracy improved from 0.98278 to 0.98306, saving model to .\\model4.h5\n",
      "350/350 [==============================] - 41s 116ms/step - loss: 0.0416 - accuracy: 0.9868 - val_loss: 0.0557 - val_accuracy: 0.9831\n",
      "Epoch 7/20\n",
      "350/350 [==============================] - ETA: 0s - loss: 0.0333 - accuracy: 0.9899\n",
      "Epoch 7: val_accuracy did not improve from 0.98306\n",
      "350/350 [==============================] - 94s 270ms/step - loss: 0.0333 - accuracy: 0.9899 - val_loss: 0.0675 - val_accuracy: 0.9809\n",
      "Epoch 7: early stopping\n",
      "The model has successfully trained\n"
     ]
    }
   ],
   "source": [
    "batch_size = 120\n",
    "epochs = 20\n",
    "\n",
    "train_cnn4 = model_cnn4.fit(X_train, y_train,batch_size=batch_size,epochs=epochs,verbose=1,\n",
    "                  validation_data=(X_test, y_test),validation_split=0.3,callbacks=cb_cnn4)\n",
    "\n",
    "print(\"The model has successfully trained\")"
   ]
  },
  {
   "cell_type": "markdown",
   "id": "990f1056",
   "metadata": {},
   "source": [
    "#### Train Test accuracy Graph"
   ]
  },
  {
   "cell_type": "code",
   "execution_count": 92,
   "id": "ed25614c",
   "metadata": {},
   "outputs": [
    {
     "data": {
      "text/plain": [
       "<Figure size 432x288 with 0 Axes>"
      ]
     },
     "execution_count": 92,
     "metadata": {},
     "output_type": "execute_result"
    },
    {
     "data": {
      "image/png": "[encoded data removed]",
      "text/plain": [
       "<Figure size 432x288 with 1 Axes>"
      ]
     },
     "metadata": {
      "needs_background": "light"
     },
     "output_type": "display_data"
    },
    {
     "data": {
      "text/plain": [
       "<Figure size 432x288 with 0 Axes>"
      ]
     },
     "metadata": {},
     "output_type": "display_data"
    }
   ],
   "source": [
    "loss_plt_cnn4=train_cnn4.history[\"loss\"]\n",
    "accuracy_plt_cnn4=train_cnn4.history[\"accuracy\"]\n",
    "val_loss_plt_cnn4=train_cnn4.history[\"val_loss\"]\n",
    "val_accuracy_plt_cnn4=train_cnn4.history[\"val_accuracy\"]\n",
    "epochs=range(1,len(accuracy_plt_cnn4)+1)\n",
    "plt.plot(epochs,accuracy_plt_cnn4,\"r\",label=\"Training Accuracy\")\n",
    "plt.plot(epochs,val_accuracy_plt_cnn4,\"b\",label=\"Validation Accuracy\")\n",
    "plt.title(\"Training and Validation Accuracy\")\n",
    "plt.xlabel(\"Epochs\")\n",
    "plt.ylabel(\"Accuracy\")\n",
    "plt.legend()\n",
    "plt.figure()"
   ]
  },
  {
   "cell_type": "markdown",
   "id": "5db2cccc",
   "metadata": {},
   "source": [
    "#### Saving and Loading the Model 4"
   ]
  },
  {
   "cell_type": "code",
   "execution_count": 95,
   "id": "3047e1c3",
   "metadata": {},
   "outputs": [],
   "source": [
    "model_save_cnn4=keras.models.load_model(\"C:/Users/arink/Datamites Capstone Projects/mnist_handwritten_digits_recognition/model4.h5\")"
   ]
  },
  {
   "cell_type": "markdown",
   "id": "fc8ab373",
   "metadata": {},
   "source": [
    "#### Evaluate Model 4"
   ]
  },
  {
   "cell_type": "code",
   "execution_count": 96,
   "id": "99faa1b5",
   "metadata": {},
   "outputs": [
    {
     "name": "stdout",
     "output_type": "stream",
     "text": [
      "313/313 [==============================] - 4s 12ms/step - loss: 0.0589 - accuracy: 0.9835\n",
      "Test loss: 0.05888309329748154\n",
      "Test accuracy: 0.9835000038146973\n"
     ]
    }
   ],
   "source": [
    "score_cnn4 = model_save_cnn4.evaluate(X_test, y_test)\n",
    "print('Test loss:', score_cnn4[0]) #loss\n",
    "print('Test accuracy:', score_cnn4[1]) #accuracy"
   ]
  },
  {
   "cell_type": "code",
   "execution_count": 97,
   "id": "5af1cbe8",
   "metadata": {},
   "outputs": [
    {
     "data": {
      "text/plain": [
       "<matplotlib.image.AxesImage at 0x25d64a82d90>"
      ]
     },
     "execution_count": 97,
     "metadata": {},
     "output_type": "execute_result"
    },
    {
     "data": {
      "image/png": "[encoded data removed]",
      "text/plain": [
       "<Figure size 432x288 with 1 Axes>"
      ]
     },
     "metadata": {
      "needs_background": "light"
     },
     "output_type": "display_data"
    }
   ],
   "source": [
    "plt.imshow(X_test[301])"
   ]
  },
  {
   "cell_type": "code",
   "execution_count": 98,
   "id": "cb6dbfcb",
   "metadata": {},
   "outputs": [],
   "source": [
    "prediction_cnn4=model_save_cnn4.predict(X_test)"
   ]
  },
  {
   "cell_type": "code",
   "execution_count": 99,
   "id": "0ead315a",
   "metadata": {},
   "outputs": [
    {
     "name": "stdout",
     "output_type": "stream",
     "text": [
      "7\n"
     ]
    }
   ],
   "source": [
    "print(np.argmax(prediction_cnn4[301]))"
   ]
  },
  {
   "cell_type": "markdown",
   "id": "f6002ccd",
   "metadata": {},
   "source": [
    "### Model 5 (3 hidden Layers and 1 Dropout)"
   ]
  },
  {
   "cell_type": "markdown",
   "id": "605d61b5",
   "metadata": {},
   "source": [
    "- The first is the convolutional (Conv2D) layer. It is like a set of learnable filters. First Conv2D has 32 filters of kernel size (3X3), the second conv2D layers has 64 filters of kernel size (3X3). Each filter transforms a part of the image (defined by the kernel size) using the kernel filter. The kernel filter matrix is applied on the whole image. Filters can be seen as a transformation of the image.\n",
    "- 'relu' is the rectifier (activation function max(0,x). The rectifier activation function is used to add non linearity to the network.\n",
    "- The CNN can isolate features that are useful everywhere from these transformed images (feature maps).\n",
    "- The second important layer in CNN is the pooling (MaxPool2D) layer. This layer simply acts as a downsampling filter. It looks at the 2 neighboring pixels and picks the maximal value. These are used to reduce computational cost, and to some extent also reduce overfitting. We have to choose the pooling size (i.e the area size pooled each time) more the pooling dimension is high, more the downsampling is important.\n",
    "- Combining convolutional and pooling layers, CNN are able to combine local features and learn more global features of the image.\n",
    "- Dropout is a regularization method, where a proportion of nodes in the layer are randomly ignored (setting their wieghts to zero) for each training sample. This drops randomly a propotion of the network and forces the network to learn features in a distributed way. This technique also improves generalization and reduces the overfitting. Here we used dropout after combining Conv2D layer and MaxPooling and after 1 Fully Connected Layer.\n",
    "- The Flatten layer is use to convert the final feature maps into a one single 1D vector. This flattening step is needed so that you can make use of fully connected layers after some convolutional/maxpool layers. It combines all the found local features of the previous convolutional layers.\n",
    "- In the end the features was connected in two fully-connected (Dense) layers which is just artificial neural networks (ANN) classifier. In the last layer(Dense(10,activation=\"softmax\")) the net outputs distribution of probability of each class.\n",
    "- Compiling with categorical crossentropy(Categorical crossentropy is a loss function that is used in multi-class classification tasks. These are tasks where an example can only belong to one out of many possible categories, and the model must decide which one. Formally, it is designed to quantify the difference between two probability distributions) as loss and Adam (Adam optimizer involves a combination of two gradient descent methodologies: Momentum: This algorithm is used to accelerate the gradient descent algorithm by taking into consideration the 'exponentially weighted average' of the gradients. Using averages makes the algorithm converge towards the minima in a faster pace) as optimizer and checking the accuracy Metrics.\n",
    "- Callbacks- A callback is an object that can perform actions at various stages of training (e.g. at the start or end of an epoch, before or after a single batch, etc). You can use callbacks to: Write TensorBoard logs after every batch of training to monitor your metrics. Periodically save your model to disk. Here we are checking for EarlyStopping and Model Checkpoint.\n",
    "- Then Train The Model with batch size =120, and epochs= 15\n",
    "- plotting a Graph of Train and Test Accuracy of Model w.r.t epochs\n",
    "- Saving the model in h5(data file saved in the Hierarchical Data Format (HDF)) format for future loading\n",
    "- Evaluating the Model by checking the Test Loss and Test Accuracy and predicting using np.argmax(is a built-in Numpy function that is used to get the indices of the maximum element from an array (single-dimensional array) or any row or column (multidimensional array) of any given array)."
   ]
  },
  {
   "cell_type": "code",
   "execution_count": 100,
   "id": "fbd74a54",
   "metadata": {},
   "outputs": [],
   "source": [
    "model_cnn5=Sequential()"
   ]
  },
  {
   "cell_type": "markdown",
   "id": "4681c3f5",
   "metadata": {},
   "source": [
    "#### Layers"
   ]
  },
  {
   "cell_type": "code",
   "execution_count": 101,
   "id": "62aed9c4",
   "metadata": {},
   "outputs": [],
   "source": [
    "model_cnn5.add(Conv2D(32, kernel_size=(3, 3),activation='relu',input_shape=input_shape)) # 32 filters with kernel size 3*3\n",
    "model_cnn5.add(Conv2D(64,(3,3),activation='relu'))\n",
    "\n",
    "model_cnn5.add(MaxPooling2D(pool_size=(2, 2)))\n",
    "\n",
    "model_cnn5.add(Flatten())\n",
    "\n",
    "model_cnn5.add(Dense(128,activation=\"relu\"))\n",
    "\n",
    "model_cnn5.add(Dropout(0.25))\n",
    "\n",
    "model_cnn5.add(Dense(10,activation=\"softmax\"))"
   ]
  },
  {
   "cell_type": "code",
   "execution_count": 102,
   "id": "028853e2",
   "metadata": {},
   "outputs": [
    {
     "name": "stdout",
     "output_type": "stream",
     "text": [
      "Model: \"sequential_5\"\n",
      "_________________________________________________________________\n",
      " Layer (type)                Output Shape              Param #   \n",
      "=================================================================\n",
      " conv2d_14 (Conv2D)          (None, 26, 26, 32)        320       \n",
      "                                                                 \n",
      " conv2d_15 (Conv2D)          (None, 24, 24, 64)        18496     \n",
      "                                                                 \n",
      " max_pooling2d_9 (MaxPooling  (None, 12, 12, 64)       0         \n",
      " 2D)                                                             \n",
      "                                                                 \n",
      " flatten_5 (Flatten)         (None, 9216)              0         \n",
      "                                                                 \n",
      " dense_10 (Dense)            (None, 128)               1179776   \n",
      "                                                                 \n",
      " dropout_4 (Dropout)         (None, 128)               0         \n",
      "                                                                 \n",
      " dense_11 (Dense)            (None, 10)                1290      \n",
      "                                                                 \n",
      "=================================================================\n",
      "Total params: 1,199,882\n",
      "Trainable params: 1,199,882\n",
      "Non-trainable params: 0\n",
      "_________________________________________________________________\n"
     ]
    }
   ],
   "source": [
    "model_cnn5.summary()"
   ]
  },
  {
   "cell_type": "markdown",
   "id": "553a9401",
   "metadata": {},
   "source": [
    "#### Compile"
   ]
  },
  {
   "cell_type": "code",
   "execution_count": 103,
   "id": "6fdf220e",
   "metadata": {},
   "outputs": [],
   "source": [
    "model_cnn5.compile(loss=keras.losses.categorical_crossentropy,optimizer=keras.optimizers.Adam(),metrics=['accuracy'])"
   ]
  },
  {
   "cell_type": "markdown",
   "id": "ccde3890",
   "metadata": {},
   "source": [
    "#### Callbacks"
   ]
  },
  {
   "cell_type": "code",
   "execution_count": 104,
   "id": "4c9114d5",
   "metadata": {},
   "outputs": [],
   "source": [
    "## EarlyStopping\n",
    "\n",
    "early_stopping_cnn5=EarlyStopping(monitor='val_accuracy',min_delta=0.01, patience=4, verbose=1)\n",
    "\n",
    "## Modelcheckpoints\n",
    "\n",
    "model_checkpoint_cnn5=ModelCheckpoint(\"./model5.h5\",monitor='val_accuracy',verbose=1,save_best_only=True )\n",
    "\n",
    "cb_cnn5=[early_stopping_cnn5,model_checkpoint_cnn5]"
   ]
  },
  {
   "cell_type": "markdown",
   "id": "14952d28",
   "metadata": {},
   "source": [
    "#### Train Model 5"
   ]
  },
  {
   "cell_type": "code",
   "execution_count": 105,
   "id": "573bc96d",
   "metadata": {},
   "outputs": [
    {
     "name": "stdout",
     "output_type": "stream",
     "text": [
      "Epoch 1/15\n",
      "350/350 [==============================] - ETA: 0s - loss: 0.2256 - accuracy: 0.9301\n",
      "Epoch 1: val_accuracy improved from -inf to 0.97578, saving model to .\\model5.h5\n",
      "350/350 [==============================] - 60s 169ms/step - loss: 0.2256 - accuracy: 0.9301 - val_loss: 0.0802 - val_accuracy: 0.9758\n",
      "Epoch 2/15\n",
      "350/350 [==============================] - ETA: 0s - loss: 0.0649 - accuracy: 0.9799\n",
      "Epoch 2: val_accuracy improved from 0.97578 to 0.98394, saving model to .\\model5.h5\n",
      "350/350 [==============================] - 63s 180ms/step - loss: 0.0649 - accuracy: 0.9799 - val_loss: 0.0502 - val_accuracy: 0.9839\n",
      "Epoch 3/15\n",
      "350/350 [==============================] - ETA: 0s - loss: 0.0422 - accuracy: 0.9872\n",
      "Epoch 3: val_accuracy improved from 0.98394 to 0.98728, saving model to .\\model5.h5\n",
      "350/350 [==============================] - 67s 192ms/step - loss: 0.0422 - accuracy: 0.9872 - val_loss: 0.0463 - val_accuracy: 0.9873\n",
      "Epoch 4/15\n",
      "350/350 [==============================] - ETA: 0s - loss: 0.0307 - accuracy: 0.9901\n",
      "Epoch 4: val_accuracy did not improve from 0.98728\n",
      "350/350 [==============================] - 75s 214ms/step - loss: 0.0307 - accuracy: 0.9901 - val_loss: 0.0484 - val_accuracy: 0.9861\n",
      "Epoch 5/15\n",
      "350/350 [==============================] - ETA: 0s - loss: 0.0224 - accuracy: 0.9927\n",
      "Epoch 5: val_accuracy did not improve from 0.98728\n",
      "350/350 [==============================] - 64s 184ms/step - loss: 0.0224 - accuracy: 0.9927 - val_loss: 0.0477 - val_accuracy: 0.9869\n",
      "Epoch 6/15\n",
      "350/350 [==============================] - ETA: 0s - loss: 0.0189 - accuracy: 0.9933\n",
      "Epoch 6: val_accuracy improved from 0.98728 to 0.98783, saving model to .\\model5.h5\n",
      "350/350 [==============================] - 63s 180ms/step - loss: 0.0189 - accuracy: 0.9933 - val_loss: 0.0424 - val_accuracy: 0.9878\n",
      "Epoch 7/15\n",
      "350/350 [==============================] - ETA: 0s - loss: 0.0169 - accuracy: 0.9941\n",
      "Epoch 7: val_accuracy improved from 0.98783 to 0.98850, saving model to .\\model5.h5\n",
      "350/350 [==============================] - 60s 170ms/step - loss: 0.0169 - accuracy: 0.9941 - val_loss: 0.0424 - val_accuracy: 0.9885\n",
      "Epoch 7: early stopping\n",
      "The model has successfully trained\n"
     ]
    }
   ],
   "source": [
    "batch_size = 120\n",
    "epochs = 15\n",
    "\n",
    "train_cnn5 = model_cnn5.fit(X_train, y_train,batch_size=batch_size,epochs=epochs,verbose=1,\n",
    "                  validation_data=(X_test, y_test),validation_split=0.3,callbacks=cb_cnn5)\n",
    "\n",
    "print(\"The model has successfully trained\")"
   ]
  },
  {
   "cell_type": "markdown",
   "id": "93d6c17d",
   "metadata": {},
   "source": [
    "#### Train Test Accuracy graph"
   ]
  },
  {
   "cell_type": "code",
   "execution_count": 106,
   "id": "f0b06cb3",
   "metadata": {},
   "outputs": [
    {
     "data": {
      "text/plain": [
       "<Figure size 432x288 with 0 Axes>"
      ]
     },
     "execution_count": 106,
     "metadata": {},
     "output_type": "execute_result"
    },
    {
     "data": {
      "image/png": "[encoded data removed]",
      "text/plain": [
       "<Figure size 432x288 with 1 Axes>"
      ]
     },
     "metadata": {
      "needs_background": "light"
     },
     "output_type": "display_data"
    },
    {
     "data": {
      "text/plain": [
       "<Figure size 432x288 with 0 Axes>"
      ]
     },
     "metadata": {},
     "output_type": "display_data"
    }
   ],
   "source": [
    "loss_plt_cnn5=train_cnn5.history[\"loss\"]\n",
    "accuracy_plt_cnn5=train_cnn5.history[\"accuracy\"]\n",
    "val_loss_plt_cnn5=train_cnn5.history[\"val_loss\"]\n",
    "val_accuracy_plt_cnn5=train_cnn5.history[\"val_accuracy\"]\n",
    "epochs=range(1,len(accuracy_plt_cnn5)+1)\n",
    "plt.plot(epochs,accuracy_plt_cnn5,\"r\",label=\"Training Accuracy\")\n",
    "plt.plot(epochs,val_accuracy_plt_cnn5,\"b\",label=\"Validation Accuracy\")\n",
    "plt.title(\"Training and Validation Accuracy\")\n",
    "plt.xlabel(\"Epochs\")\n",
    "plt.ylabel(\"Accuracy\")\n",
    "plt.legend()\n",
    "plt.figure()"
   ]
  },
  {
   "cell_type": "code",
   "execution_count": null,
   "id": "877ab2ae",
   "metadata": {},
   "outputs": [],
   "source": []
  },
  {
   "cell_type": "markdown",
   "id": "76fd3617",
   "metadata": {},
   "source": [
    "#### Saving and Loading Model 5"
   ]
  },
  {
   "cell_type": "code",
   "execution_count": 107,
   "id": "8b4ec816",
   "metadata": {},
   "outputs": [],
   "source": [
    "model_save_cnn5=keras.models.load_model(\"C:/Users/arink/Datamites Capstone Projects/mnist_handwritten_digits_recognition/model5.h5\")"
   ]
  },
  {
   "cell_type": "markdown",
   "id": "6194300e",
   "metadata": {},
   "source": [
    "#### Evaluate Model 5"
   ]
  },
  {
   "cell_type": "code",
   "execution_count": 108,
   "id": "9732530b",
   "metadata": {},
   "outputs": [
    {
     "name": "stdout",
     "output_type": "stream",
     "text": [
      "313/313 [==============================] - 4s 11ms/step - loss: 0.0330 - accuracy: 0.9896\n",
      "Test loss: 0.03301309049129486\n",
      "Test accuracy: 0.9896000027656555\n"
     ]
    }
   ],
   "source": [
    "score_cnn5 = model_save_cnn5.evaluate(X_test, y_test)\n",
    "print('Test loss:', score_cnn5[0]) #loss\n",
    "print('Test accuracy:', score_cnn5[1]) #accuracy"
   ]
  },
  {
   "cell_type": "code",
   "execution_count": 109,
   "id": "9024dc8f",
   "metadata": {},
   "outputs": [
    {
     "data": {
      "text/plain": [
       "<matplotlib.image.AxesImage at 0x25d00f87880>"
      ]
     },
     "execution_count": 109,
     "metadata": {},
     "output_type": "execute_result"
    },
    {
     "data": {
      "image/png": "[encoded data removed]",
      "text/plain": [
       "<Figure size 432x288 with 1 Axes>"
      ]
     },
     "metadata": {
      "needs_background": "light"
     },
     "output_type": "display_data"
    }
   ],
   "source": [
    "plt.imshow(X_test[68])"
   ]
  },
  {
   "cell_type": "code",
   "execution_count": 110,
   "id": "0583e707",
   "metadata": {},
   "outputs": [],
   "source": [
    "prediction_cnn5=model_save_cnn5.predict(X_test)"
   ]
  },
  {
   "cell_type": "code",
   "execution_count": 111,
   "id": "aa40c398",
   "metadata": {},
   "outputs": [
    {
     "name": "stdout",
     "output_type": "stream",
     "text": [
      "3\n"
     ]
    }
   ],
   "source": [
    "print(np.argmax(prediction_cnn5[68]))"
   ]
  },
  {
   "cell_type": "markdown",
   "id": "7cab979f",
   "metadata": {},
   "source": [
    "### Model 6 ( 6 Hidden Layers and 1 Dropout)"
   ]
  },
  {
   "cell_type": "markdown",
   "id": "ac8df3ff",
   "metadata": {},
   "source": [
    "- Combining convolutional and pooling layers, CNN are able to combine local features and learn more global features of the image.The first is the convolutional (Conv2D) layer. It is like a set of learnable filters. First Conv2D has 64 filters of kernel size (3X3), then the pooling (MaxPool2D) layer is used at the 2 neighboring pixels and picks the maximal value. The second conv2D layers has 64 filters of kernel size (3X3) and again a the pooling (MaxPool2D) layer is used at the 2 neighboring pixels and picks the maximal value. The Third conv2D layers has 128 filters of kernel size (3X3) and again a the pooling (MaxPool2D) layer is used at the 2 neighboring pixels and picks the maximal value. Each filter transforms a part of the image (defined by the kernel size) using the kernalfilter. The kernel filter matrix is applied on the whole image. Filters can be seen as a transformation of the image.\n",
    "- 'relu' is the rectifier (activation function max(0,x). The rectifier activation function is used to add non linearity to the network.\n",
    "- Dropout is a regularization method, where a proportion of nodes in the layer are randomly ignored (setting their wieghts to zero) for each training sample. This drops randomly a propotion of the network and forces the network to learn features in a distributed way. This technique also improves generalization and reduces the overfitting. Here we used dropoutafter 1 Fully Connected Layer with 25%.\n",
    "- The Flatten layer is use to convert the final feature maps into a one single 1D vector. This flattening step is needed so that you can make use of fully connected layers after some convolutional/maxpool layers. It combines all the found local features of the previous convolutional layers.\n",
    "- In the end the features was connected in two fully-connected (Dense) layers which is just artificial neural networks (ANN) classifier. In the last layer(Dense(10,activation=\"softmax\")) the net outputs distribution of probability of each class.\n",
    "- Compiling with categorical crossentropy(Categorical crossentropy is a loss function that is used in multi-class classification tasks. These are tasks where an example can only belong to one out of many possible categories, and the model must decide which one. Formally, it is designed to quantify the difference between two probability distributions) as loss and Adam (Adam optimizer involves a combination of two gradient descent methodologies: Momentum: This algorithm is used to accelerate the gradient descent algorithm by taking into consideration the 'exponentially weighted average' of the gradients. Using averages makes the algorithm converge towards the minima in a faster pace) as optimizer and checking the accuracy Metrics.\n",
    "- Callbacks- A callback is an object that can perform actions at various stages of training (e.g. at the start or end of an epoch, before or after a single batch, etc). You can use callbacks to: Write TensorBoard logs after every batch of training to monitor your metrics. Periodically save your model to disk. Here we are checking for EarlyStopping and Model Checkpoint.\n",
    "- Then Train The Model with batch size =100, and epochs= 15\n",
    "- plotting a Graph of Train and Test Accuracy of Model w.r.t epochs\n",
    "- Saving the model in h5(data file saved in the Hierarchical Data Format (HDF)) format for future loading\n",
    "- Evaluating the Model by checking the Test Loss and Test Accuracy and predicting using np.argmax(is a built-in Numpy function that is used to get the indices of the maximum element from an array (single-dimensional array) or any row or column (multidimensional array) of any given array)."
   ]
  },
  {
   "cell_type": "code",
   "execution_count": 112,
   "id": "fcc0473d",
   "metadata": {},
   "outputs": [],
   "source": [
    "model_cnn6=Sequential()"
   ]
  },
  {
   "cell_type": "markdown",
   "id": "5b791815",
   "metadata": {},
   "source": [
    "#### Layers"
   ]
  },
  {
   "cell_type": "code",
   "execution_count": 113,
   "id": "03741fd2",
   "metadata": {},
   "outputs": [],
   "source": [
    " ## activation vector- to make it non linear, <0-remove, >0-allow for secong layer.\n",
    "    \n",
    "# 1st convolution layer (28-3+1)=26 (26*26)\n",
    "\n",
    "model_cnn6.add(Conv2D(64, kernel_size=(3, 3),activation='relu',input_shape=input_shape)) #(28-3+1)=26 (26*26)\n",
    "model_cnn6.add(MaxPooling2D(pool_size=(2, 2))) # single maximum value 2X2, it will allow this others removed , 26/2=13\n",
    "\n",
    "# 2nd convolution layer \n",
    "\n",
    "model_cnn6.add(Conv2D(64,(3,3),activation='relu')) #13-3+1=11 (11*11)\n",
    "model_cnn6.add(MaxPooling2D(pool_size=(2, 2))) #11/2= 5.5 =5\n",
    "\n",
    "# 3rd convolution layer \n",
    "\n",
    "model_cnn6.add(Conv2D(128,(3,3),activation='relu')) # 5-3+1=2 (3*3)\n",
    "model_cnn6.add(MaxPooling2D(pool_size=(2, 2))) # 3/2= 1.5 =1\n",
    "\n",
    "## before Fully connected layer we need to flatten layer\n",
    "\n",
    "model_cnn6.add(Flatten()) # converting 2D to 1D\n",
    "\n",
    "# now fully connect\n",
    "\n",
    "\n",
    "## we know we have inputs ranging between 0-9 total=10\n",
    "    \n",
    "\n",
    "#2nd fully connect layer\n",
    "model_cnn6.add(Dense(64,activation=\"relu\"))\n",
    "\n",
    "## to prevent overfitting\n",
    "\n",
    "model_cnn6.add(Dropout(0.25))\n",
    "\n",
    " #3rd fully connect layer\n",
    "model_cnn6.add(Dense(10,activation=\"softmax\")) ## activation function changed to softmax(Class Probabilities)\n",
    "## binary classification- one neuron in Dense Layer activation function but multiple class therefore softmax"
   ]
  },
  {
   "cell_type": "code",
   "execution_count": 114,
   "id": "53f84b88",
   "metadata": {},
   "outputs": [
    {
     "name": "stdout",
     "output_type": "stream",
     "text": [
      "Model: \"sequential_6\"\n",
      "_________________________________________________________________\n",
      " Layer (type)                Output Shape              Param #   \n",
      "=================================================================\n",
      " conv2d_16 (Conv2D)          (None, 26, 26, 64)        640       \n",
      "                                                                 \n",
      " max_pooling2d_10 (MaxPoolin  (None, 13, 13, 64)       0         \n",
      " g2D)                                                            \n",
      "                                                                 \n",
      " conv2d_17 (Conv2D)          (None, 11, 11, 64)        36928     \n",
      "                                                                 \n",
      " max_pooling2d_11 (MaxPoolin  (None, 5, 5, 64)         0         \n",
      " g2D)                                                            \n",
      "                                                                 \n",
      " conv2d_18 (Conv2D)          (None, 3, 3, 128)         73856     \n",
      "                                                                 \n",
      " max_pooling2d_12 (MaxPoolin  (None, 1, 1, 128)        0         \n",
      " g2D)                                                            \n",
      "                                                                 \n",
      " flatten_6 (Flatten)         (None, 128)               0         \n",
      "                                                                 \n",
      " dense_12 (Dense)            (None, 64)                8256      \n",
      "                                                                 \n",
      " dropout_5 (Dropout)         (None, 64)                0         \n",
      "                                                                 \n",
      " dense_13 (Dense)            (None, 10)                650       \n",
      "                                                                 \n",
      "=================================================================\n",
      "Total params: 120,330\n",
      "Trainable params: 120,330\n",
      "Non-trainable params: 0\n",
      "_________________________________________________________________\n"
     ]
    }
   ],
   "source": [
    "model_cnn6.summary()"
   ]
  },
  {
   "cell_type": "markdown",
   "id": "27c50ece",
   "metadata": {},
   "source": [
    "#### Compile"
   ]
  },
  {
   "cell_type": "code",
   "execution_count": 115,
   "id": "ed4bfeb2",
   "metadata": {},
   "outputs": [],
   "source": [
    "model_cnn6.compile(loss=keras.losses.categorical_crossentropy,optimizer=keras.optimizers.Adam(),metrics=['accuracy'])"
   ]
  },
  {
   "cell_type": "markdown",
   "id": "d3b1b70e",
   "metadata": {},
   "source": [
    "#### Callbacks"
   ]
  },
  {
   "cell_type": "code",
   "execution_count": 117,
   "id": "2737369c",
   "metadata": {},
   "outputs": [],
   "source": [
    "## EarlyStopping\n",
    "\n",
    "early_stopping_cnn6=EarlyStopping(monitor='val_accuracy',min_delta=0.01, patience=4, verbose=1)\n",
    "\n",
    "## Modelcheckpoints\n",
    "\n",
    "model_checkpoint_cnn6=ModelCheckpoint(\"./model6.h5\",monitor='val_accuracy',verbose=1,save_best_only=True )\n",
    "\n",
    "cb_cnn6=[early_stopping_cnn6,model_checkpoint_cnn6]"
   ]
  },
  {
   "cell_type": "markdown",
   "id": "6fbb0fa7",
   "metadata": {},
   "source": [
    "#### Train Model 6"
   ]
  },
  {
   "cell_type": "code",
   "execution_count": 118,
   "id": "8fcc2ff2",
   "metadata": {},
   "outputs": [
    {
     "name": "stdout",
     "output_type": "stream",
     "text": [
      "Epoch 1/15\n",
      "350/350 [==============================] - ETA: 0s - loss: 0.4688 - accuracy: 0.8529\n",
      "Epoch 1: val_accuracy improved from -inf to 0.96022, saving model to .\\model6.h5\n",
      "350/350 [==============================] - 42s 119ms/step - loss: 0.4688 - accuracy: 0.8529 - val_loss: 0.1336 - val_accuracy: 0.9602\n",
      "Epoch 2/15\n",
      "350/350 [==============================] - ETA: 0s - loss: 0.1417 - accuracy: 0.9580\n",
      "Epoch 2: val_accuracy improved from 0.96022 to 0.97128, saving model to .\\model6.h5\n",
      "350/350 [==============================] - 42s 120ms/step - loss: 0.1417 - accuracy: 0.9580 - val_loss: 0.0929 - val_accuracy: 0.9713\n",
      "Epoch 3/15\n",
      "350/350 [==============================] - ETA: 0s - loss: 0.0975 - accuracy: 0.9708\n",
      "Epoch 3: val_accuracy improved from 0.97128 to 0.97983, saving model to .\\model6.h5\n",
      "350/350 [==============================] - 40s 115ms/step - loss: 0.0975 - accuracy: 0.9708 - val_loss: 0.0685 - val_accuracy: 0.9798\n",
      "Epoch 4/15\n",
      "350/350 [==============================] - ETA: 0s - loss: 0.0774 - accuracy: 0.9769\n",
      "Epoch 4: val_accuracy did not improve from 0.97983\n",
      "350/350 [==============================] - 42s 119ms/step - loss: 0.0774 - accuracy: 0.9769 - val_loss: 0.0720 - val_accuracy: 0.9782\n",
      "Epoch 5/15\n",
      "350/350 [==============================] - ETA: 0s - loss: 0.0648 - accuracy: 0.9811\n",
      "Epoch 5: val_accuracy improved from 0.97983 to 0.98211, saving model to .\\model6.h5\n",
      "350/350 [==============================] - 42s 121ms/step - loss: 0.0648 - accuracy: 0.9811 - val_loss: 0.0640 - val_accuracy: 0.9821\n",
      "Epoch 6/15\n",
      "350/350 [==============================] - ETA: 0s - loss: 0.0558 - accuracy: 0.9834\n",
      "Epoch 6: val_accuracy improved from 0.98211 to 0.98278, saving model to .\\model6.h5\n",
      "350/350 [==============================] - 43s 124ms/step - loss: 0.0558 - accuracy: 0.9834 - val_loss: 0.0562 - val_accuracy: 0.9828\n",
      "Epoch 7/15\n",
      "350/350 [==============================] - ETA: 0s - loss: 0.0447 - accuracy: 0.9859\n",
      "Epoch 7: val_accuracy did not improve from 0.98278\n",
      "350/350 [==============================] - 39s 111ms/step - loss: 0.0447 - accuracy: 0.9859 - val_loss: 0.0653 - val_accuracy: 0.9817\n",
      "Epoch 8/15\n",
      "350/350 [==============================] - ETA: 0s - loss: 0.0374 - accuracy: 0.9881\n",
      "Epoch 8: val_accuracy improved from 0.98278 to 0.98483, saving model to .\\model6.h5\n",
      "350/350 [==============================] - 38s 108ms/step - loss: 0.0374 - accuracy: 0.9881 - val_loss: 0.0525 - val_accuracy: 0.9848\n",
      "Epoch 9/15\n",
      "350/350 [==============================] - ETA: 0s - loss: 0.0344 - accuracy: 0.9893\n",
      "Epoch 9: val_accuracy did not improve from 0.98483\n",
      "350/350 [==============================] - 38s 107ms/step - loss: 0.0344 - accuracy: 0.9893 - val_loss: 0.0617 - val_accuracy: 0.9823\n",
      "Epoch 9: early stopping\n",
      "The model has successfully trained\n"
     ]
    }
   ],
   "source": [
    "batch_size = 120\n",
    "epochs = 15\n",
    "\n",
    "train_cnn6 = model_cnn6.fit(X_train, y_train,batch_size=batch_size,epochs=epochs,verbose=1,\n",
    "                  validation_data=(X_test, y_test),validation_split=0.3,callbacks=cb_cnn6)\n",
    "\n",
    "print(\"The model has successfully trained\")"
   ]
  },
  {
   "cell_type": "markdown",
   "id": "ca07440f",
   "metadata": {},
   "source": [
    "#### Train and Test Accuracy Graph"
   ]
  },
  {
   "cell_type": "code",
   "execution_count": 119,
   "id": "cd3ac8a1",
   "metadata": {},
   "outputs": [
    {
     "data": {
      "text/plain": [
       "<Figure size 432x288 with 0 Axes>"
      ]
     },
     "execution_count": 119,
     "metadata": {},
     "output_type": "execute_result"
    },
    {
     "data": {
      "image/png": "[encoded data removed]",
      "text/plain": [
       "<Figure size 432x288 with 1 Axes>"
      ]
     },
     "metadata": {
      "needs_background": "light"
     },
     "output_type": "display_data"
    },
    {
     "data": {
      "text/plain": [
       "<Figure size 432x288 with 0 Axes>"
      ]
     },
     "metadata": {},
     "output_type": "display_data"
    }
   ],
   "source": [
    "loss_plt_cnn6=train_cnn6.history[\"loss\"]\n",
    "accuracy_plt_cnn6=train_cnn6.history[\"accuracy\"]\n",
    "val_loss_plt_cnn6=train_cnn6.history[\"val_loss\"]\n",
    "val_accuracy_plt_cnn6=train_cnn6.history[\"val_accuracy\"]\n",
    "epochs=range(1,len(accuracy_plt_cnn6)+1)\n",
    "plt.plot(epochs,accuracy_plt_cnn6,\"r\",label=\"Training Accuracy\")\n",
    "plt.plot(epochs,val_accuracy_plt_cnn6,\"b\",label=\"Validation Accuracy\")\n",
    "plt.title(\"Training and Validation Accuracy\")\n",
    "plt.xlabel(\"Epochs\")\n",
    "plt.ylabel(\"Accuracy\")\n",
    "plt.legend()\n",
    "plt.figure()"
   ]
  },
  {
   "cell_type": "markdown",
   "id": "efeac5b1",
   "metadata": {},
   "source": [
    "#### Saving and Loading Model 6"
   ]
  },
  {
   "cell_type": "code",
   "execution_count": 120,
   "id": "803f68c6",
   "metadata": {},
   "outputs": [],
   "source": [
    "model_save_cnn6=keras.models.load_model(\"C:/Users/arink/Datamites Capstone Projects/mnist_handwritten_digits_recognition/model6.h5\")"
   ]
  },
  {
   "cell_type": "markdown",
   "id": "02eb9b92",
   "metadata": {},
   "source": [
    "#### Evaluate Model 6"
   ]
  },
  {
   "cell_type": "code",
   "execution_count": 121,
   "id": "87cf2810",
   "metadata": {},
   "outputs": [
    {
     "name": "stdout",
     "output_type": "stream",
     "text": [
      "313/313 [==============================] - 4s 11ms/step - loss: 0.0496 - accuracy: 0.9870\n",
      "Test loss: 0.04962537810206413\n",
      "Test accuracy: 0.9869999885559082\n"
     ]
    }
   ],
   "source": [
    "score_cnn6 = model_save_cnn6.evaluate(X_test, y_test)\n",
    "print('Test loss:', score_cnn6[0]) #loss\n",
    "print('Test accuracy:', score_cnn6[1]) #accuracy"
   ]
  },
  {
   "cell_type": "code",
   "execution_count": 122,
   "id": "02da79ff",
   "metadata": {},
   "outputs": [
    {
     "data": {
      "text/plain": [
       "<matplotlib.image.AxesImage at 0x25d01ec7fd0>"
      ]
     },
     "execution_count": 122,
     "metadata": {},
     "output_type": "execute_result"
    },
    {
     "data": {
      "image/png": "[encoded data removed]",
      "text/plain": [
       "<Figure size 432x288 with 1 Axes>"
      ]
     },
     "metadata": {
      "needs_background": "light"
     },
     "output_type": "display_data"
    }
   ],
   "source": [
    "plt.imshow(X_test[108])"
   ]
  },
  {
   "cell_type": "code",
   "execution_count": 123,
   "id": "6f3270d1",
   "metadata": {},
   "outputs": [],
   "source": [
    "prediction_cnn6=model_save_cnn6.predict(X_test)"
   ]
  },
  {
   "cell_type": "code",
   "execution_count": 124,
   "id": "ebf878fb",
   "metadata": {},
   "outputs": [
    {
     "name": "stdout",
     "output_type": "stream",
     "text": [
      "9\n"
     ]
    }
   ],
   "source": [
    "print(np.argmax(prediction_cnn6[108]))"
   ]
  },
  {
   "cell_type": "markdown",
   "id": "52b8c5a6",
   "metadata": {},
   "source": [
    "## Data Augmentation\n",
    "\n",
    "- In order to avoid overfitting problem, we need to expand artificially our handwritten digit dataset. We can make your existing dataset even larger. The idea is to alter the training data with small transformations to reproduce the variations occuring when someone is writing a digit.\n",
    "\n",
    "- For example, the number is not centered The scale is not the same (some who write with big/small numbers) The image is rotated...\n",
    "\n",
    "- Approaches that alter the training data in ways that change the array representation while keeping the label the same are known as data augmentation techniques. Some popular augmentations people use are grayscales, horizontal flips, vertical flips, random crops, color jitters, translations, rotations, and much more.\n",
    "\n",
    "- By applying just a couple of these transformations to our training data, we can easily double or triple the number of training examples and create a very robust model."
   ]
  },
  {
   "cell_type": "code",
   "execution_count": 125,
   "id": "2d53afd5",
   "metadata": {},
   "outputs": [],
   "source": [
    "from keras.layers import *\n",
    "from keras.utils import *\n",
    "from keras.models import *\n",
    "from sklearn.utils import shuffle\n",
    "\n",
    "import os\n",
    "import numpy as np\n",
    "import skimage.io as io\n",
    "import keras"
   ]
  },
  {
   "cell_type": "code",
   "execution_count": 126,
   "id": "dfaa1c01",
   "metadata": {},
   "outputs": [
    {
     "name": "stdout",
     "output_type": "stream",
     "text": [
      "Model: \"model\"\n",
      "_________________________________________________________________\n",
      " Layer (type)                Output Shape              Param #   \n",
      "=================================================================\n",
      " input_1 (InputLayer)        [(None, 28, 28, 1)]       0         \n",
      "                                                                 \n",
      " conv2d_19 (Conv2D)          (None, 28, 28, 64)        640       \n",
      "                                                                 \n",
      " conv2d_20 (Conv2D)          (None, 28, 28, 64)        36928     \n",
      "                                                                 \n",
      " conv2d_21 (Conv2D)          (None, 28, 28, 128)       73856     \n",
      "                                                                 \n",
      " max_pooling2d_13 (MaxPoolin  (None, 14, 14, 128)      0         \n",
      " g2D)                                                            \n",
      "                                                                 \n",
      " conv2d_22 (Conv2D)          (None, 14, 14, 128)       147584    \n",
      "                                                                 \n",
      " conv2d_23 (Conv2D)          (None, 14, 14, 256)       819456    \n",
      "                                                                 \n",
      " max_pooling2d_14 (MaxPoolin  (None, 7, 7, 256)        0         \n",
      " g2D)                                                            \n",
      "                                                                 \n",
      " conv2d_24 (Conv2D)          (None, 7, 7, 256)         1638656   \n",
      "                                                                 \n",
      " flatten_7 (Flatten)         (None, 12544)             0         \n",
      "                                                                 \n",
      " dense_14 (Dense)            (None, 512)               6423040   \n",
      "                                                                 \n",
      " dense_15 (Dense)            (None, 128)               65664     \n",
      "                                                                 \n",
      " dense_16 (Dense)            (None, 64)                8256      \n",
      "                                                                 \n",
      " dense_17 (Dense)            (None, 10)                650       \n",
      "                                                                 \n",
      "=================================================================\n",
      "Total params: 9,214,730\n",
      "Trainable params: 9,214,730\n",
      "Non-trainable params: 0\n",
      "_________________________________________________________________\n",
      "None\n"
     ]
    }
   ],
   "source": [
    "inputs = Input(shape = (28,28,1))\n",
    "conv0 = Conv2D(64, 3, padding = 'same', activation = 'relu')(inputs)\n",
    "conv1 = Conv2D(64, 3, padding='same', activation='relu')(conv0)\n",
    "conv2 = Conv2D(128, 3, padding='same', activation='relu')(conv1)\n",
    "pool2 = MaxPooling2D((2,2))(conv2)\n",
    "conv3 = Conv2D(128, 3, padding='same', activation='relu')(pool2)\n",
    "conv4 = Conv2D(256, 5, padding='same', activation='relu')(conv3)\n",
    "pool4 = MaxPooling2D((2,2))(conv4)\n",
    "conv5 = Conv2D(256, 5, padding='same', activation='relu')(pool4)\n",
    "flat = Flatten()(conv5)\n",
    "dense0 = Dense(512, activation='relu')(flat)\n",
    "dense1 = Dense(128, activation='relu')(dense0)\n",
    "dense2 = Dense(64, activation='relu')(dense1)\n",
    "dense3 = Dense(10, activation='softmax')(dense2)\n",
    "\n",
    "model_aug = Model(inputs = inputs, outputs = dense3)\n",
    "print(model_aug.summary())"
   ]
  },
  {
   "cell_type": "code",
   "execution_count": 127,
   "id": "842950ae",
   "metadata": {},
   "outputs": [],
   "source": [
    "from keras.preprocessing.image import ImageDataGenerator\n",
    "from keras.callbacks import *"
   ]
  },
  {
   "cell_type": "markdown",
   "id": "5dcda3fb",
   "metadata": {},
   "source": [
    "###### For the data augmentation :\n",
    "\n",
    "- Randomly rotate some training images by 10 degrees\n",
    "- Randomly Zoom by 10% some training images\n",
    "- Randomly shift images horizontally by 10% of the width\n",
    "- Randomly shift images vertically by 10% of the height\n",
    "- We did not apply a vertical_flip nor horizontal_flip since it could have lead to misclassify symetrical numbers such as 6 and 9.\n"
   ]
  },
  {
   "cell_type": "code",
   "execution_count": 128,
   "id": "b1cc4e4b",
   "metadata": {},
   "outputs": [],
   "source": [
    "train_aug = ImageDataGenerator(\n",
    "        featurewise_center = False,\n",
    "        samplewise_center = False,\n",
    "        featurewise_std_normalization = False, \n",
    "        samplewise_std_normalization = False,\n",
    "        zca_whitening = False,\n",
    "        horizontal_flip = False,\n",
    "        vertical_flip = False,\n",
    "        fill_mode = 'nearest',\n",
    "        rotation_range = 10,  \n",
    "        zoom_range = 0.1, \n",
    "        width_shift_range = 0.1, \n",
    "        height_shift_range = 0.1)"
   ]
  },
  {
   "cell_type": "code",
   "execution_count": 130,
   "id": "0ccf51ba",
   "metadata": {},
   "outputs": [],
   "source": [
    "import tensorflow"
   ]
  },
  {
   "cell_type": "markdown",
   "id": "b3ec4022",
   "metadata": {},
   "source": [
    "#### Compile"
   ]
  },
  {
   "cell_type": "code",
   "execution_count": 131,
   "id": "7e29dec5",
   "metadata": {},
   "outputs": [],
   "source": [
    "model_aug.compile(optimizer=tensorflow.keras.optimizers.Adam(learning_rate = 10e-4), loss = keras.losses.categorical_crossentropy, metrics = ['accuracy'])"
   ]
  },
  {
   "cell_type": "markdown",
   "id": "dee2b87d",
   "metadata": {},
   "source": [
    "- In order to make the optimizer converge faster and closest to the global minimum of the loss function, i used an annealing method of the learning rate (LR).\n",
    "\n",
    "- The LR is the step by which the optimizer walks through the 'loss landscape'. The higher LR, the bigger are the steps and the quicker is the convergence. However the sampling is very poor with an high LR and the optimizer could probably fall into a local minima.\n",
    "\n",
    "- Its better to have a decreasing learning rate during the training to reach efficiently the global minimum of the loss function.\n",
    "\n",
    "- To keep the advantage of the fast computation time with a high LR, i decreased the LR dynamically every X steps (epochs) depending if it is necessary (when accuracy is not improved).\n",
    "\n",
    "- With the ReduceLROnPlateau function from Keras.callbacks, we choose to reduce the LR."
   ]
  },
  {
   "cell_type": "code",
   "execution_count": 132,
   "id": "e6353e4b",
   "metadata": {},
   "outputs": [],
   "source": [
    "reduce_lr = ReduceLROnPlateau(monitor='val_accuracy', factor=0.8,\n",
    "                              patience=3)"
   ]
  },
  {
   "cell_type": "markdown",
   "id": "b1150595",
   "metadata": {},
   "source": [
    "#### Train the Augmentation Model"
   ]
  },
  {
   "cell_type": "code",
   "execution_count": 133,
   "id": "5054787e",
   "metadata": {},
   "outputs": [
    {
     "name": "stdout",
     "output_type": "stream",
     "text": [
      "Epoch 1/10\n",
      "300/300 [==============================] - 1403s 5s/step - loss: 0.2903 - accuracy: 0.9036 - val_loss: 0.0414 - val_accuracy: 0.9865 - lr: 0.0010\n",
      "Epoch 2/10\n",
      "300/300 [==============================] - 1460s 5s/step - loss: 0.0576 - accuracy: 0.9825 - val_loss: 0.0304 - val_accuracy: 0.9910 - lr: 0.0010\n",
      "Epoch 3/10\n",
      "300/300 [==============================] - 1346s 4s/step - loss: 0.0403 - accuracy: 0.9877 - val_loss: 0.0234 - val_accuracy: 0.9934 - lr: 0.0010\n",
      "Epoch 4/10\n",
      "300/300 [==============================] - 1312s 4s/step - loss: 0.0346 - accuracy: 0.9900 - val_loss: 0.0175 - val_accuracy: 0.9944 - lr: 0.0010\n",
      "Epoch 5/10\n",
      "300/300 [==============================] - 1322s 4s/step - loss: 0.0300 - accuracy: 0.9913 - val_loss: 0.0214 - val_accuracy: 0.9941 - lr: 0.0010\n",
      "Epoch 6/10\n",
      "300/300 [==============================] - 3439s 11s/step - loss: 0.0284 - accuracy: 0.9913 - val_loss: 0.0125 - val_accuracy: 0.9964 - lr: 0.0010\n",
      "Epoch 7/10\n",
      "300/300 [==============================] - 1514s 5s/step - loss: 0.0250 - accuracy: 0.9926 - val_loss: 0.0244 - val_accuracy: 0.9933 - lr: 0.0010\n",
      "Epoch 8/10\n",
      "300/300 [==============================] - 1269s 4s/step - loss: 0.0236 - accuracy: 0.9931 - val_loss: 0.0290 - val_accuracy: 0.9923 - lr: 0.0010\n",
      "Epoch 9/10\n",
      "300/300 [==============================] - 4941s 17s/step - loss: 0.0232 - accuracy: 0.9933 - val_loss: 0.0185 - val_accuracy: 0.9943 - lr: 0.0010\n",
      "Epoch 10/10\n",
      "300/300 [==============================] - 1339s 4s/step - loss: 0.0164 - accuracy: 0.9951 - val_loss: 0.0190 - val_accuracy: 0.9944 - lr: 8.0000e-04\n"
     ]
    }
   ],
   "source": [
    "history = model_aug.fit(train_aug.flow(X_train, y_train, batch_size = 200), epochs = 10,\n",
    "                               validation_data = (X_test,y_test), callbacks = [reduce_lr])"
   ]
  },
  {
   "cell_type": "markdown",
   "id": "28775c5f",
   "metadata": {},
   "source": [
    "\n",
    "#### Train Test Acuuracy Graph"
   ]
  },
  {
   "cell_type": "code",
   "execution_count": 134,
   "id": "5bdc4f07",
   "metadata": {},
   "outputs": [
    {
     "data": {
      "text/plain": [
       "<Figure size 432x288 with 0 Axes>"
      ]
     },
     "execution_count": 134,
     "metadata": {},
     "output_type": "execute_result"
    },
    {
     "data": {
      "image/png": "[encoded data removed]",
      "text/plain": [
       "<Figure size 432x288 with 1 Axes>"
      ]
     },
     "metadata": {
      "needs_background": "light"
     },
     "output_type": "display_data"
    },
    {
     "data": {
      "text/plain": [
       "<Figure size 432x288 with 0 Axes>"
      ]
     },
     "metadata": {},
     "output_type": "display_data"
    }
   ],
   "source": [
    "loss_plt_img=history.history[\"loss\"]\n",
    "accuracy_plt_img=history.history[\"accuracy\"]\n",
    "val_loss_plt_img=history.history[\"val_loss\"]\n",
    "val_accuracy_plt_img=history.history[\"val_accuracy\"]\n",
    "epochs=range(1,len(accuracy_plt_img)+1)\n",
    "plt.plot(epochs,accuracy_plt_img,\"r\",label=\"Training Accuracy\")\n",
    "plt.plot(epochs,val_accuracy_plt_img,\"b\",label=\"Validation Accuracy\")\n",
    "plt.title(\"Training and Validation Accuracy\")\n",
    "plt.xlabel(\"Epochs\")\n",
    "plt.ylabel(\"Accuracy\")\n",
    "plt.legend()\n",
    "plt.figure()"
   ]
  },
  {
   "cell_type": "markdown",
   "id": "9c91e8f6",
   "metadata": {},
   "source": [
    "#### Evaluate The model"
   ]
  },
  {
   "cell_type": "code",
   "execution_count": 137,
   "id": "68aa478a",
   "metadata": {},
   "outputs": [
    {
     "name": "stdout",
     "output_type": "stream",
     "text": [
      "313/313 [==============================] - 45s 144ms/step - loss: 0.0190 - accuracy: 0.9944\n",
      "Test loss: 0.019031798467040062\n",
      "Test accur`acy: 0.9944000244140625\n"
     ]
    }
   ],
   "source": [
    "score1 =model_aug.evaluate(X_test, y_test)\n",
    "print('Test loss:', score1[0]) #loss\n",
    "print('Test accur`acy:', score1[1]) #accuracy"
   ]
  },
  {
   "cell_type": "code",
   "execution_count": 138,
   "id": "1e5fb3b8",
   "metadata": {},
   "outputs": [
    {
     "data": {
      "text/plain": [
       "<matplotlib.image.AxesImage at 0x25d0aa052b0>"
      ]
     },
     "execution_count": 138,
     "metadata": {},
     "output_type": "execute_result"
    },
    {
     "data": {
      "image/png": "[encoded data removed]",
      "text/plain": [
       "<Figure size 432x288 with 1 Axes>"
      ]
     },
     "metadata": {
      "needs_background": "light"
     },
     "output_type": "display_data"
    }
   ],
   "source": [
    "plt.imshow(X_test[335])"
   ]
  },
  {
   "cell_type": "code",
   "execution_count": 139,
   "id": "d6ed1a4f",
   "metadata": {},
   "outputs": [],
   "source": [
    "output=model_aug.predict(X_test)"
   ]
  },
  {
   "cell_type": "code",
   "execution_count": 140,
   "id": "d99b95cb",
   "metadata": {},
   "outputs": [
    {
     "name": "stdout",
     "output_type": "stream",
     "text": [
      "3\n"
     ]
    }
   ],
   "source": [
    "print(np.argmax(output[335]))"
   ]
  },
  {
   "cell_type": "markdown",
   "id": "c06db2e0",
   "metadata": {},
   "source": [
    "### The improvement after Data Augmentation :\n",
    "\n",
    "###### Model 1- \n",
    "- In model 1 we got an accuracy of 98.97% \n",
    "\n",
    "###### Model 2- \n",
    "- In model 1 we got an accuracy of 98.42%\n",
    "\n",
    "###### Model 3- \n",
    "- In model 1 we got an accuracy of 98.65%\n",
    "\n",
    "###### Model 4- \n",
    "- In model 1 we got an accuracy of 98.35%\n",
    "\n",
    "###### Model 5- \n",
    "- In model 1 we got an accuracy of 98.96%\n",
    "\n",
    "###### Model 6- \n",
    "- In model 1 we got an accuracy of 98.69%\n",
    "\n",
    "\n",
    "###### Data Augmentation\n",
    "- In Data Augmentation Model we got an accuracy of 99.44%"
   ]
  },
  {
   "cell_type": "markdown",
   "id": "9321468b",
   "metadata": {},
   "source": [
    "#### Saving the Data Augmentation model in hdf5 format"
   ]
  },
  {
   "cell_type": "code",
   "execution_count": 158,
   "id": "d52216b7",
   "metadata": {},
   "outputs": [],
   "source": [
    "model_aug.save(\"finalmodel.h5\")"
   ]
  },
  {
   "cell_type": "markdown",
   "id": "4c874a64",
   "metadata": {},
   "source": [
    "#### Serializing weights with json and HDF5 File"
   ]
  },
  {
   "cell_type": "code",
   "execution_count": 156,
   "id": "e667886e",
   "metadata": {},
   "outputs": [],
   "source": [
    "model_json = model_aug.to_json()\n",
    "with open(\"modeljson.json\", \"w\") as json_file:\n",
    "    json_file.write(model_json)\n",
    "# serialize weights to HDF5\n",
    "model_aug.save_weights(\"modelh5.h5\")"
   ]
  },
  {
   "cell_type": "code",
   "execution_count": 157,
   "id": "d97ccfe4",
   "metadata": {},
   "outputs": [
    {
     "name": "stdout",
     "output_type": "stream",
     "text": [
      "Loaded Model from disk\n"
     ]
    }
   ],
   "source": [
    "# imports\n",
    "\n",
    "from keras.models import model_from_json \n",
    "\n",
    "# opening and store file in a variable\n",
    "\n",
    "json_file = open('modeljson.json','r')\n",
    "loaded_model_json = json_file.read()\n",
    "json_file.close()\n",
    "\n",
    "# use Keras model_from_json to make a loaded model\n",
    "\n",
    "loaded_model = model_from_json(loaded_model_json)\n",
    "\n",
    "# load weights into new model\n",
    "\n",
    "loaded_model.load_weights(\"modelh5.h5\")\n",
    "print(\"Loaded Model from disk\")\n",
    "\n",
    "# compile and evaluate loaded model\n",
    "loaded_model.compile(loss='categorical_crossentropy',optimizer='adam',metrics=['accuracy'])"
   ]
  },
  {
   "cell_type": "code",
   "execution_count": 147,
   "id": "60272559",
   "metadata": {},
   "outputs": [],
   "source": [
    "from sklearn.metrics import plot_confusion_matrix,confusion_matrix"
   ]
  },
  {
   "cell_type": "code",
   "execution_count": 149,
   "id": "2f368846",
   "metadata": {},
   "outputs": [],
   "source": [
    "import itertools  "
   ]
  },
  {
   "cell_type": "markdown",
   "id": "5239d153",
   "metadata": {},
   "source": [
    "#### Confusion Matrix\n",
    "\n",
    "- Confusion matrix can be very helpfull to see your model drawbacks."
   ]
  },
  {
   "cell_type": "code",
   "execution_count": 150,
   "id": "62197439",
   "metadata": {},
   "outputs": [
    {
     "data": {
      "image/png": "[encoded data removed]",
      "text/plain": [
       "<Figure size 432x288 with 2 Axes>"
      ]
     },
     "metadata": {
      "needs_background": "light"
     },
     "output_type": "display_data"
    }
   ],
   "source": [
    "def plot_confusion_matrix(cm, classes,\n",
    "                          normalize=False,\n",
    "                          title='Confusion matrix',\n",
    "                          cmap=plt.cm.Blues):\n",
    "    \"\"\"\n",
    "    This function prints and plots the confusion matrix.\n",
    "    Normalization can be applied by setting `normalize=True`.\n",
    "    \"\"\"\n",
    "    plt.imshow(cm, interpolation='nearest', cmap=cmap)\n",
    "    plt.title(title)\n",
    "    plt.colorbar()\n",
    "    tick_marks = np.arange(len(classes))\n",
    "    plt.xticks(tick_marks, classes, rotation=45)\n",
    "    plt.yticks(tick_marks, classes)\n",
    "\n",
    "    if normalize:\n",
    "        cm = cm.astype('float') / cm.sum(axis=1)[:, np.newaxis]\n",
    "\n",
    "    thresh = cm.max() / 2.\n",
    "    for i, j in itertools.product(range(cm.shape[0]), range(cm.shape[1])):\n",
    "        plt.text(j, i, cm[i, j],\n",
    "                 horizontalalignment=\"center\",\n",
    "                 color=\"white\" if cm[i, j] > thresh else \"black\")\n",
    "\n",
    "    plt.tight_layout()\n",
    "    plt.ylabel('True label')\n",
    "    plt.xlabel('Predicted label')\n",
    "\n",
    "# Predict the values from the validation dataset\n",
    "Y_pred = model_aug.predict(X_test)\n",
    "# Convert predictions classes to one hot vectors \n",
    "Y_pred_classes = np.argmax(Y_pred,axis = 1) \n",
    "# Convert validation observations to one hot vectors\n",
    "Y_true = np.argmax(y_test,axis = 1) \n",
    "# compute the confusion matrix\n",
    "confusion_mtx = confusion_matrix(Y_true, Y_pred_classes) \n",
    "# plot the confusion matrix\n",
    "plot_confusion_matrix(confusion_mtx, classes = range(10)) "
   ]
  },
  {
   "cell_type": "markdown",
   "id": "d042153a",
   "metadata": {},
   "source": [
    "- Here we can see that our CNN performs very well on all digits with few errors considering the size of the validation set.\n",
    "\n",
    "- However, it seems that our CNN has some little troubles with the 3 digits, they are misclassified as 5, even 7 is misclassified with 2 and 9 with 4, 0 with 6 and 7 with 1, 5 with 3,9 and 7. Sometime it is very difficult to catch the difference between 4 and 9 when curves are smooth."
   ]
  },
  {
   "cell_type": "markdown",
   "id": "14611e64",
   "metadata": {},
   "source": [
    "### Let's investigate for errors.\n",
    "\n",
    "- lets see the most important errors . For that purpose we need to get the difference between the probabilities of real value and the predicted ones in the results."
   ]
  },
  {
   "cell_type": "code",
   "execution_count": 161,
   "id": "b9ce3973",
   "metadata": {},
   "outputs": [],
   "source": [
    "def draw_output(nums):\n",
    "    plt.figure(figsize = (20, 20))\n",
    "    plt.xticks( range(10) )\n",
    "    x = np.ceil(np.sqrt(len(idx_nums)))\n",
    "    cnt = 1\n",
    "    for i in nums:\n",
    "        plt.subplot(x, x, cnt)\n",
    "        curr_photo = y_test[i]\n",
    "        \n",
    "        plt.xlim(0, 10)\n",
    "        plt.title(\"Digit: {0}\\n idx: {1} \".format(np.argmax(y_test[i]), i), fontsize = 10) \n",
    "        plt.bar(range(10), output[i])\n",
    "        \n",
    "        cnt += 1"
   ]
  },
  {
   "cell_type": "code",
   "execution_count": 162,
   "id": "8d170027",
   "metadata": {},
   "outputs": [
    {
     "name": "stderr",
     "output_type": "stream",
     "text": [
      "C:\\Users\\arink\\anaconda3\\lib\\site-packages\\seaborn\\_decorators.py:36: FutureWarning: Pass the following variables as keyword args: x, y. From version 0.12, the only valid positional argument will be `data`, and passing other arguments without an explicit keyword will result in an error or misinterpretation.\n",
      "  warnings.warn(\n"
     ]
    },
    {
     "data": {
      "image/png": "[encoded data removed]",
      "text/plain": [
       "<Figure size 1080x504 with 1 Axes>"
      ]
     },
     "metadata": {},
     "output_type": "display_data"
    }
   ],
   "source": [
    "cnt_error = []\n",
    "for i, (a, b) in enumerate(zip(y_test, output)):\n",
    "    if np.argmax(a) == np.argmax(b): continue\n",
    "    cnt_error.append( (np.argmax(a)) )\n",
    "\n",
    "cnt_error = np.unique(cnt_error, return_counts = True)\n",
    "sns.set_style(\"darkgrid\")\n",
    "plt.figure(figsize = (15, 7))\n",
    "bar_plot = sns.barplot(cnt_error[0], cnt_error[1], palette=\"muted\")\n",
    "plt.show()"
   ]
  },
  {
   "cell_type": "code",
   "execution_count": 163,
   "id": "d8f92590",
   "metadata": {},
   "outputs": [
    {
     "data": {
      "image/png": "[encoded data removed]",
      "text/plain": [
       "<Figure size 1008x1008 with 7 Axes>"
      ]
     },
     "metadata": {},
     "output_type": "display_data"
    }
   ],
   "source": [
    "cnt_ind = 1\n",
    "list_ind = []\n",
    "X_val_plot = X_test.reshape( X_test.shape[:-1] )\n",
    "fig = plt.figure(figsize=(14, 14))\n",
    "\n",
    "for i, (a, b) in enumerate(zip(y_test, output)):\n",
    "    if np.argmax(a) == np.argmax(b): continue\n",
    "    if (np.argmax(a) == 2 or np.argmax(a) == 9):    \n",
    "        plt.subplot(5, 5, cnt_ind)\n",
    "        plt.imshow(X_val_plot[i], cmap='gray', interpolation='none')\n",
    "        plt.title('y_true={0}\\ny_pred={1}\\n ind = {2}'.format(np.argmax(a), np.argmax(b), idx))\n",
    "        plt.tight_layout()\n",
    "        list_idx.append(idx)\n",
    "        cnt_ind += 1"
   ]
  },
  {
   "cell_type": "code",
   "execution_count": null,
   "id": "ecac8bf9",
   "metadata": {},
   "outputs": [],
   "source": []
  }
 ],
 "metadata": {
  "kernelspec": {
   "display_name": "Python 3 (ipykernel)",
   "language": "python",
   "name": "python3"
  },
  "language_info": {
   "codemirror_mode": {
    "name": "ipython",
    "version": 3
   },
   "file_extension": ".py",
   "mimetype": "text/x-python",
   "name": "python",
   "nbconvert_exporter": "python",
   "pygments_lexer": "ipython3",
   "version": "3.9.7"
  }
 },
 "nbformat": 4,
 "nbformat_minor": 5
}
